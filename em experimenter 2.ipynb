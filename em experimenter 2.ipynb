{
 "cells": [
  {
   "cell_type": "code",
   "execution_count": 1,
   "metadata": {},
   "outputs": [],
   "source": [
    "import numpy as np\n",
    "from scipy.optimize import curve_fit\n",
    "from pylab import *\n",
    "from math import e\n",
    "import matplotlib\n",
    "import matplotlib.pyplot as plt\n",
    "import matplotlib.ticker as ticker\n",
    "import scipy\n",
    "from scipy import stats\n",
    "from scipy.stats import norm"
   ]
  },
  {
   "cell_type": "code",
   "execution_count": 2,
   "metadata": {},
   "outputs": [],
   "source": [
    "# I -> current through coils in amps (measured)*\n",
    "# a -> mean radius of coil in meters\n",
    "# N -> number of turns of wire on each coil \n",
    "# r -> radius of circle in meters (measured)*\n",
    "# V -> potential difference in Volts (measured)*\n",
    "\n",
    "perm = (4*np.pi)*(10**-7)\n",
    "cons = 2.47*(10**12)\n",
    "N = 132\n",
    "a = 0.1475 #m"
   ]
  },
  {
   "cell_type": "code",
   "execution_count": 3,
   "metadata": {},
   "outputs": [],
   "source": [
    "def em(V,I,r):\n",
    "    em_term = (cons*((a**2)/(N**2))*((V)/((I**2)*(r**2))))\n",
    "    return em_term"
   ]
  },
  {
   "cell_type": "code",
   "execution_count": 4,
   "metadata": {},
   "outputs": [],
   "source": [
    "r = (0.025, 0.0275, 0.03, 0.0325, 0.035, 0.075, 0.04, 0.0425, 0.045, 0.0475, 0.05, 0.0525, 0.055)#m\n",
    "\n",
    "V = (200, 250, 300, 350, 400, 450, 500) #V"
   ]
  },
  {
   "cell_type": "code",
   "execution_count": 5,
   "metadata": {},
   "outputs": [],
   "source": [
    "r2 = (0.0275, 0.03, 0.0325, 0.035, 0.0375, 0.04, 0.0425, 0.045, 0.0475, 0.05, 0.0525, 0.055)"
   ]
  },
  {
   "cell_type": "code",
   "execution_count": 6,
   "metadata": {},
   "outputs": [],
   "source": [
    "#r2[0]\n",
    "I2a_1 = (2.61, 2.64, 2.62, 2.58, 2.65, 2.63, 2.61, 2.59) #250 V\n",
    "I2b_1 = (2.99) #400 V\n",
    "\n",
    "#r2[1]\n",
    "I2b_2 = (2.92, 2.88, 2.92, 2.9) #400 V\n",
    "\n",
    "#r2[2]\n",
    "I2a_3 = (2.29, 2.29, 2.34, 2.27, 2.28, 2.27, 2.3, 2.26) #250 V\n",
    "I2b_3 = (2.75, 2.77, 2.69, 2.67) #400 V\n",
    "\n",
    "#r2[3]\n",
    "I2b_4 = (2.44, 2.51, 2.52, 2.52) #400 V\n",
    "\n",
    "#r2[4]\n",
    "I2a_5 = (2.01, 2.02, 2.04, 1.96, 1.96, 1.95, 1.99, 2.01) #250 V\n",
    "I2b_5 = (2.41, 2.36, 2.34, 2.36) #400 V\n",
    "\n",
    "#r2[5]\n",
    "I2b_6 = (2.25, 2.3, 2.19, 2.24) #400 V\n",
    "\n",
    "#r2[6]\n",
    "I2b_7 = (2.18, 2.14, 2.17, 2.16) #400 V\n",
    "\n",
    "#r2[7]\n",
    "I2b_8 = (2.1, 2.05, 2.05, 2.07) #400 V\n",
    "\n",
    "#r2[8]\n",
    "I2a_9 = (1.53, 1.52, 1.49, 1.52, 1.49, 1.5, 1.52, 1.48) #250 V\n",
    "I2b_9 = (1.99, 1.96, 1.94, 1.97) #400 V\n",
    "\n",
    "#r2[9]\n",
    "I2b_10 = (2.01, 1.81, 1.82, 1.83) #400 V\n",
    "\n",
    "#r2[10]\n",
    "I2a_11 = (1.35, 1.35, 1.37, 1.32, 1.38, 1.36, 1.35, 1.22) #250 V\n",
    "I2b_11 = (1.67, 1.74, 1.71, 1.71) #400 V\n",
    "\n",
    "#r2[11]\n",
    "I2b_12 = (1.62, 1.65, 1.67, 1.68) #400 V"
   ]
  },
  {
   "cell_type": "code",
   "execution_count": 10,
   "metadata": {},
   "outputs": [
    {
     "name": "stdout",
     "output_type": "stream",
     "text": [
      "2.61625\n",
      "2.2874999999999996\n"
     ]
    }
   ],
   "source": [
    "mean1a = np.mean(I2a_1)\n",
    "print(mean1a)\n",
    "\n",
    "mean3a = np.mean(I2a_3)\n",
    "print(mean3a)"
   ]
  },
  {
   "cell_type": "code",
   "execution_count": 13,
   "metadata": {},
   "outputs": [
    {
     "name": "stdout",
     "output_type": "stream",
     "text": [
      "0.14895300521733332\n"
     ]
    }
   ],
   "source": [
    "print(em(250, mean1a, r2[0])/(10E11))"
   ]
  },
  {
   "cell_type": "code",
   "execution_count": null,
   "metadata": {},
   "outputs": [],
   "source": []
  }
 ],
 "metadata": {
  "kernelspec": {
   "display_name": "Python 3",
   "language": "python",
   "name": "python3"
  },
  "language_info": {
   "codemirror_mode": {
    "name": "ipython",
    "version": 3
   },
   "file_extension": ".py",
   "mimetype": "text/x-python",
   "name": "python",
   "nbconvert_exporter": "python",
   "pygments_lexer": "ipython3",
   "version": "3.7.4"
  }
 },
 "nbformat": 4,
 "nbformat_minor": 2
}
