{
 "cells": [
  {
   "cell_type": "markdown",
   "metadata": {},
   "source": [
    "## Millikan Oil Drop Results\n",
    "\n",
    "### Alexandra Higley"
   ]
  },
  {
   "cell_type": "code",
   "execution_count": 1,
   "metadata": {},
   "outputs": [],
   "source": [
    "import numpy as np\n",
    "from scipy.optimize import curve_fit\n",
    "from pylab import *\n",
    "from math import e\n",
    "import matplotlib\n",
    "import matplotlib.pyplot as plt\n",
    "import matplotlib.ticker as ticker\n",
    "import scipy\n",
    "from scipy import stats\n",
    "from scipy.stats import norm"
   ]
  },
  {
   "cell_type": "code",
   "execution_count": 2,
   "metadata": {},
   "outputs": [],
   "source": [
    "dist = 0.5 #mm \n",
    "\n",
    "#Drop 1\n",
    "trdat1 = (9.207, 8.679, 8.362, 9.012, 9.655, 9.685, 9.529, 9.541)\n",
    "tfdat1 = (9.318, 9.2, 9.756, 9.704, 10.03, 10.627, 9.479, 10.055)\n",
    "tr1 = np.array(trdat1)\n",
    "tf1 = np.array(tfdat1)\n",
    "\n",
    "#Drop 2 \n",
    "trdat2 = (4.855, 4.998, 4.841, 4.911, 4.751, 4.672, 5.046, 4.897, 5.841, 4.865)\n",
    "tfdat2 = (8.061, 9.396, 8.165, 8.845, 9.03, 9.218, 8.952, 8.816, 9.715, 11.067)\n",
    "tr2 = np.array(trdat2)\n",
    "tf2 = np.array(tfdat2)\n",
    "\n",
    "#Drop 3 \n",
    "trdat3 = (3.16, 3.338, 3.279, 3.428, 3.123, 3.431, 3.363)\n",
    "tfdat3 = (10.014, 9.469, 8.208, 8.191, 8.958, 9.164, 9.874)\n",
    "tr3 = np.array(trdat3)\n",
    "tf3 = np.array(tfdat3)\n",
    "\n",
    "#Drop 4 \n",
    "trdat4 = (5.702, 6.044, 5.878, 5.774, 5.811, 6.142, 6.169, 6.056, 5.72, 6.05)\n",
    "tfdat4 = (11.956, 12.144, 11.799, 12.907, 12.513, 12.093, 13.481, 12.643, 11.514, 10.726)\n",
    "tr4 = np.array(trdat4)\n",
    "tf4 = np.array(tfdat4)\n"
   ]
  },
  {
   "cell_type": "code",
   "execution_count": 3,
   "metadata": {},
   "outputs": [],
   "source": [
    "#Chauvenistic criterion \n",
    "\n",
    "def chauv(array):\n",
    "    print(len(array))\n",
    "    mu, sigma = scipy.stats.norm.fit(array)\n",
    "    print(array)\n",
    "    som = abs(mu+(2*sigma))\n",
    "    optloc = np.where(som >= array)\n",
    "    opt = array[optloc]\n",
    "    print(opt)\n",
    "    print(len(opt))\n",
    "    \n",
    "#it is found that the rise time on Drop Two in trial 9 and the fall time on Drop two in trial 10 are not acceptable.\n",
    "#Redefining Drop 2 data before proceeding. \n",
    "\n",
    "#Drop 2 \n",
    "trdat2 = (4.855, 4.998, 4.841, 4.911, 4.751, 4.672, 5.046, 4.897)\n",
    "tfdat2 = (8.061, 9.396, 8.165, 8.845, 9.03, 9.218, 8.952, 8.816)\n",
    "tr2 = np.array(trdat2)\n",
    "tf2 = np.array(tfdat2)"
   ]
  },
  {
   "cell_type": "code",
   "execution_count": 4,
   "metadata": {},
   "outputs": [],
   "source": [
    "vr1 = (0.0005)/tr1 #velocities with E field\n",
    "vf1 = (0.0005)/tf1 #velocities without E field\n",
    "\n",
    "vr2 = (0.0005)/tr2\n",
    "vf2 = (0.0005)/tf2\n",
    "\n",
    "vr3 = (0.0005)/tr3\n",
    "vf3 = (0.0005)/tf3\n",
    "\n",
    "vr4 = (0.0005)/tr4\n",
    "vf4 = (0.0005)/tf4"
   ]
  },
  {
   "cell_type": "code",
   "execution_count": 5,
   "metadata": {},
   "outputs": [],
   "source": [
    "# defining some constants\n",
    "\n",
    "b = 8.20*(10**-3) #Pa*m\n",
    "p = 101693.252 #Pa \n",
    "#30.03\"Hg\n",
    "g = 9.80665 #m/s^2; acceleration of grav\n",
    "rho = 886 #kg/m^3; density of oil "
   ]
  },
  {
   "cell_type": "markdown",
   "metadata": {},
   "source": [
    "Now we need to compute temperature for each drop using the resistace through the thermisor, then use that to find nu"
   ]
  },
  {
   "cell_type": "code",
   "execution_count": 6,
   "metadata": {},
   "outputs": [],
   "source": [
    "res1 = 2.13\n",
    "res2 = 2.09\n",
    "res3 = 2.07\n",
    "res4 = 2.13\n",
    "\n",
    "temp1 = 23 #C\n",
    "temp2 = 24\n",
    "temp3 = 24\n",
    "temp4 = 23\n",
    "\n",
    "nu1 = 1.8380*(10**-5) #Nsm^-2*10^-5\n",
    "nu2 = 1.8430*(10**-5)\n",
    "nu3 = 1.8430*(10**-5)\n",
    "nu4 = 1.8380*(10**-5)"
   ]
  },
  {
   "cell_type": "markdown",
   "metadata": {},
   "source": [
    "We can finally find a but we are going to have to do so for a lot of drops. We can simplify the equation to get the radius (a) of the oil drop like this:\n",
    "\n",
    "a = sqrt(A +B) - C"
   ]
  },
  {
   "cell_type": "code",
   "execution_count": 7,
   "metadata": {},
   "outputs": [
    {
     "name": "stdout",
     "output_type": "stream",
     "text": [
      "6.755217100178538e-07\n"
     ]
    }
   ],
   "source": [
    "A1 = (b/(2*p))**2\n",
    "B1 = ((9*nu1*vf1[0])/(2*g*rho)) #Literally just for trial one, drop 1\n",
    "C1 = b/(2*p)\n",
    "\n",
    "a_test = np.sqrt(A1+B1)-C1\n",
    "\n",
    "print(a_test)"
   ]
  },
  {
   "cell_type": "code",
   "execution_count": 8,
   "metadata": {},
   "outputs": [],
   "source": [
    "A = (b/(2*p))**2\n",
    "C = b/(2*p)\n",
    "\n",
    "def geta(vf,nu):\n",
    "    B = np.zeros(len(vf))\n",
    "    a = np.zeros(len(vf))\n",
    "    \n",
    "    for i in range(len(vf)):\n",
    "        B[i] = ((9*nu*vf[i])/(2*g*rho))\n",
    "        a[i] = np.sqrt(A+B[i])-C\n",
    "        \n",
    "    return a"
   ]
  },
  {
   "cell_type": "code",
   "execution_count": 9,
   "metadata": {},
   "outputs": [
    {
     "name": "stdout",
     "output_type": "stream",
     "text": [
      "[6.75521710e-07 6.80083320e-07 6.59320386e-07 6.61186218e-07\n",
      " 6.49730023e-07 6.30135360e-07 6.69435892e-07 6.48874580e-07]\n"
     ]
    }
   ],
   "source": [
    "a1 = geta(vf1, nu1)\n",
    "a2 = geta(vf2, nu2)\n",
    "a3 = geta(vf3, nu3)\n",
    "a4 = geta(vf4, nu4)\n",
    "\n",
    "print(a1)"
   ]
  },
  {
   "cell_type": "code",
   "execution_count": 10,
   "metadata": {},
   "outputs": [
    {
     "name": "stdout",
     "output_type": "stream",
     "text": [
      "1.1440375103378747e-15\n"
     ]
    }
   ],
   "source": [
    "mass_test = (4/3)*np.pi*(a1[0]**3)*rho\n",
    "print(mass_test)"
   ]
  },
  {
   "cell_type": "code",
   "execution_count": 11,
   "metadata": {},
   "outputs": [],
   "source": [
    "def getmass(a):\n",
    "    mass = (4/3)*np.pi*(a**3)*rho\n",
    "    return mass"
   ]
  },
  {
   "cell_type": "code",
   "execution_count": 12,
   "metadata": {},
   "outputs": [],
   "source": [
    "mass1 = getmass(a1)\n",
    "mass2 = getmass(a2)\n",
    "mass3 = getmass(a3)\n",
    "mass4 = getmass(a4)"
   ]
  },
  {
   "cell_type": "code",
   "execution_count": 13,
   "metadata": {},
   "outputs": [
    {
     "name": "stdout",
     "output_type": "stream",
     "text": [
      "[1.14403751e-15 1.16737047e-15 1.06368208e-15 1.07273811e-15\n",
      " 1.01793755e-15 9.28589746e-16 1.11339512e-15 1.01392216e-15]\n"
     ]
    }
   ],
   "source": [
    "print(mass1)"
   ]
  },
  {
   "cell_type": "code",
   "execution_count": 14,
   "metadata": {},
   "outputs": [],
   "source": [
    "d = 0.0076 #m\n",
    "V1 = 500 #V\n",
    "V2 = 511\n",
    "V3 = 500\n",
    "V4 = 500\n",
    "\n",
    "E1 = V1/(d)\n",
    "E2 = V2/(d)\n",
    "E3 = V3/(d)\n",
    "E4 = V4/(d)"
   ]
  },
  {
   "cell_type": "code",
   "execution_count": 15,
   "metadata": {},
   "outputs": [
    {
     "name": "stdout",
     "output_type": "stream",
     "text": [
      "3.4311886862426093e-19\n"
     ]
    }
   ],
   "source": [
    "charge_test = (mass_test*g*(vf1[0] + vr1[0])/(E1*vf1[0]))\n",
    "print(charge_test)"
   ]
  },
  {
   "cell_type": "code",
   "execution_count": 16,
   "metadata": {},
   "outputs": [],
   "source": [
    "def getcharge(mass, vf, vr, E):\n",
    "    charge = np.zeros(len(vf))\n",
    "    for i in range(len(vf)):\n",
    "        charge = (mass*g*(vf[i] + vr[i])/(E*vf[i]))\n",
    "                  \n",
    "    return charge"
   ]
  },
  {
   "cell_type": "code",
   "execution_count": 17,
   "metadata": {},
   "outputs": [
    {
     "name": "stdout",
     "output_type": "stream",
     "text": [
      "[2.18906209 2.23370861 2.03530575 2.05263403 1.94777574 1.7768129\n",
      " 2.13042931 1.94009246]\n",
      "[3.6883186  2.89446861 3.61442454 3.18512827 3.08247249 2.98351801\n",
      " 3.12509329 3.20172083]\n",
      "[3.75839022 4.1072686  5.14930031 5.16618708 4.48449626 4.32594638\n",
      " 3.84331886]\n",
      "[1.98831007 1.93941018 2.03068466 1.75947928 1.84887514 1.95248288\n",
      " 1.64112139 1.8185875  2.11141654 2.36372227]\n"
     ]
    }
   ],
   "source": [
    "c1 = getcharge(mass1,vf1,vr1,E1)\n",
    "c2 = getcharge(mass2,vf2,vr2,E2)\n",
    "c3 = getcharge(mass3,vf3,vr3,E3)\n",
    "c4 = getcharge(mass4,vf4,vr4,E4)\n",
    "\n",
    "#print(c1)\n",
    "print(c1/(1.6*(10**-19)))\n",
    "print(c2/(1.6*(10**-19)))\n",
    "print(c3/(1.6*(10**-19)))\n",
    "print(c4/(1.6*(10**-19)))"
   ]
  },
  {
   "cell_type": "code",
   "execution_count": 18,
   "metadata": {},
   "outputs": [
    {
     "name": "stdout",
     "output_type": "stream",
     "text": [
      "2.038227611111289\n",
      "3.221893080376293\n",
      "4.404986815410191\n",
      "1.9454089913544408\n"
     ]
    }
   ],
   "source": [
    "avc1 = np.mean(c1)\n",
    "avc2 = np.mean(c2)\n",
    "avc3 = np.mean(c3)\n",
    "avc4 = np.mean(c4)\n",
    "\n",
    "print(avc1/(1.6*(10**-19)))\n",
    "print(avc2/(1.6*(10**-19)))\n",
    "print(avc3/(1.6*(10**-19)))\n",
    "print(avc4/(1.6*(10**-19)))"
   ]
  },
  {
   "cell_type": "markdown",
   "metadata": {},
   "source": [
    "Let's try it by averaging the velocities first and then computing all this."
   ]
  },
  {
   "cell_type": "code",
   "execution_count": 19,
   "metadata": {},
   "outputs": [],
   "source": [
    "vf1av = np.mean(vf1)\n",
    "vf2av = np.mean(vf2)\n",
    "vf3av = np.mean(vf3)\n",
    "vf4av = np.mean(vf4)\n",
    "\n",
    "vr1av = np.mean(vr1)\n",
    "vr2av = np.mean(vr2)\n",
    "vr3av = np.mean(vr3)\n",
    "vr4av = np.mean(vr4)"
   ]
  },
  {
   "cell_type": "code",
   "execution_count": 20,
   "metadata": {},
   "outputs": [
    {
     "name": "stdout",
     "output_type": "stream",
     "text": [
      "(6.594513883305273e-07, 6.97742041449043e-07, 6.860264147387208e-07, 5.873014888780604e-07)\n"
     ]
    }
   ],
   "source": [
    "A1av = (b/(2*p))**2\n",
    "B1av = ((9*nu1*vf1av)/(2*g*rho))\n",
    "C1av = b/(2*p)\n",
    "a_av1 = np.sqrt(A1av+B1av)-C1av\n",
    "\n",
    "A2av = (b/(2*p))**2\n",
    "B2av = ((9*nu2*vf2av)/(2*g*rho))\n",
    "C2av = b/(2*p)\n",
    "a_av2 = np.sqrt(A2av+B2av)-C2av\n",
    "\n",
    "A3av = (b/(2*p))**2\n",
    "B3av = ((9*nu3*vf3av)/(2*g*rho))\n",
    "C3av = b/(2*p)\n",
    "a_av3 = np.sqrt(A3av+B3av)-C3av\n",
    "\n",
    "A4av = (b/(2*p))**2\n",
    "B4av = ((9*nu4*vf4av)/(2*g*rho))\n",
    "C4av = b/(2*p)\n",
    "a_av4 = np.sqrt(A4av+B4av)-C4av\n",
    "\n",
    "a_avall = (a_av1, a_av2, a_av3, a_av4)\n",
    "print(a_avall)"
   ]
  },
  {
   "cell_type": "code",
   "execution_count": 21,
   "metadata": {},
   "outputs": [],
   "source": [
    "mass_av1 = (4/3)*np.pi*(a_av1**3)*rho\n",
    "mass_av2 = (4/3)*np.pi*(a_av2**3)*rho\n",
    "mass_av3 = (4/3)*np.pi*(a_av3**3)*rho\n",
    "mass_av4 = (4/3)*np.pi*(a_av4**3)*rho"
   ]
  },
  {
   "cell_type": "code",
   "execution_count": 22,
   "metadata": {},
   "outputs": [
    {
     "name": "stdout",
     "output_type": "stream",
     "text": [
      "(3.2709160487231297e-19, 5.2709756439824885e-19, 6.698728471339291e-19, 3.413654737365247e-19)\n",
      "2.044322530451956\n",
      "3.294359777489055\n",
      "4.186705294587057\n",
      "2.1335342108532793\n"
     ]
    }
   ],
   "source": [
    "charge_av1 = (mass_av1*g*(vf1av + vr1av)/(E1*vf1av))\n",
    "charge_av2 = (mass_av2*g*(vf2av + vr2av)/(E1*vf2av))\n",
    "charge_av3 = (mass_av3*g*(vf3av + vr3av)/(E1*vf3av))\n",
    "charge_av4 = (mass_av4*g*(vf4av + vr4av)/(E1*vf4av))\n",
    "\n",
    "charge_av = (charge_av1, charge_av2, charge_av3, charge_av4)\n",
    "\n",
    "print(charge_av)\n",
    "\n",
    "print(charge_av1/(1.6*(10**-19)))\n",
    "print(charge_av2/(1.6*(10**-19)))\n",
    "print(charge_av3/(1.6*(10**-19)))\n",
    "print(charge_av4/(1.6*(10**-19)))"
   ]
  },
  {
   "cell_type": "markdown",
   "metadata": {},
   "source": [
    "Those are all pretty close to being integers!! Time to do some error work"
   ]
  },
  {
   "cell_type": "markdown",
   "metadata": {},
   "source": [
    "q = ne"
   ]
  },
  {
   "cell_type": "code",
   "execution_count": 23,
   "metadata": {},
   "outputs": [],
   "source": [
    "e1 = charge_av1/(2)\n",
    "e2 = charge_av2/(3)\n",
    "e3 = charge_av3/(4)\n",
    "e4 = charge_av4/(3)\n",
    "\n",
    "e_tru = 1.60*(10**-19)"
   ]
  },
  {
   "cell_type": "code",
   "execution_count": 24,
   "metadata": {},
   "outputs": [
    {
     "name": "stdout",
     "output_type": "stream",
     "text": [
      "0.4576075693211378 0.433258132497245\n",
      "0.11411938649940254 0.4411221309059434\n",
      "0.11355228949246059 0.6774228173521966\n",
      "0.1680507066334444 0.7285742515351472\n"
     ]
    }
   ],
   "source": [
    "#Standard Deviation \n",
    "\n",
    "std_tr1 = np.std(tr1)\n",
    "std_tf1 = np.std(tf1)\n",
    "\n",
    "std_tr2 = np.std(tr2)\n",
    "std_tf2 = np.std(tf2)\n",
    "\n",
    "std_tr3 = np.std(tr3)\n",
    "std_tf3 = np.std(tf3)\n",
    "\n",
    "std_tr4 = np.std(tr4)\n",
    "std_tf4 = np.std(tf4)\n",
    "\n",
    "print(std_tr1, std_tf1)\n",
    "print(std_tr2, std_tf2)\n",
    "print(std_tr3, std_tf3)\n",
    "print(std_tr4, std_tf4)"
   ]
  },
  {
   "cell_type": "markdown",
   "metadata": {},
   "source": [
    "## Scratch"
   ]
  },
  {
   "cell_type": "code",
   "execution_count": null,
   "metadata": {},
   "outputs": [],
   "source": []
  },
  {
   "cell_type": "code",
   "execution_count": 25,
   "metadata": {},
   "outputs": [
    {
     "name": "stdout",
     "output_type": "stream",
     "text": [
      "(3.682368224920416e-05, 3.469267491208319e-05, 5.1069586486953635e-05, 3.4565885850477376e-05)\n",
      "(3.374696630406159e-05, 3.779033023311852e-05, 4.535140081349205e-05, 3.5174613250019314e-05)\n"
     ]
    }
   ],
   "source": [
    "def gettimeprop(array,std):\n",
    "    inn = np.zeros(len(array))\n",
    "    for i in range (len(array)):\n",
    "        inn[i] = np.sqrt(((-0.0005/array[i])**2)*std)\n",
    "    return inn\n",
    "\n",
    "timer_prop = ((np.mean(gettimeprop(tr1,std_tr1))), (np.mean(gettimeprop(tr2,std_tr2))), (np.mean(gettimeprop(tr3,std_tr3))), (np.mean(gettimeprop(tr4,std_tr4))))\n",
    "timef_prop = ((np.mean(gettimeprop(tf1,std_tf1))), (np.mean(gettimeprop(tf2,std_tf2))), (np.mean(gettimeprop(tf3,std_tf3))), (np.mean(gettimeprop(tf4,std_tf4))))\n",
    "\n",
    "print(timer_prop)\n",
    "print(timef_prop)\n"
   ]
  },
  {
   "cell_type": "code",
   "execution_count": 26,
   "metadata": {},
   "outputs": [],
   "source": [
    "def getvelfprop(vel,std):\n",
    "    inn2 = np.sqrt((((9*nu4)/((4*g*rho)*sqrt(((9*nu4*vel)/(2*g*rho))+((b**2)/(4*p**2)))))**2))\n",
    "    return inn2\n",
    "\n",
    "propvf1 = (getvelfprop(vf1av,timef_prop[0]))\n",
    "\n",
    "propvf2 = (getvelfprop(vf2av,timef_prop[1]))\n",
    "\n",
    "propvf3 = (getvelfprop(vf3av,timef_prop[2]))\n",
    "\n",
    "propvf4 = (getvelfprop(vf4av,timef_prop[3]))"
   ]
  },
  {
   "cell_type": "code",
   "execution_count": 27,
   "metadata": {},
   "outputs": [],
   "source": [
    "def getpprop(vel,std):\n",
    "    inn3 = np.sqrt(((((b/(2*p))-((b**2)/(4*(sqrt(((9*nu4*vel)/(2*g*rho))+((b**2)/(4*p**2)))*p**3)))))**2)*std)\n",
    "    return inn3\n",
    "\n",
    "\n",
    "proppf1 = getpprop(vf1av,169.319)\n",
    "\n",
    "proppf2 = getpprop(vf2av,169.319)\n",
    "\n",
    "proppf3 = getpprop(vf3av,169.319)\n",
    "\n",
    "proppf4 = getpprop(vf4av,169.319)"
   ]
  },
  {
   "cell_type": "code",
   "execution_count": 28,
   "metadata": {},
   "outputs": [],
   "source": [
    "def getrhoprop(vel,std):\n",
    "    inn3 = np.sqrt(((-(((9*nu4*vel)/((4*g)*sqrt(((9*nu4*vel)/(2*g*rho))+((b**2)/(4*p**2)))*rho**2))))**2)*std)\n",
    "    return inn3\n",
    "\n",
    "\n",
    "proprhof1 = getrhoprop(vf1av,0.2)\n",
    "\n",
    "proprhof2 = getrhoprop(vf2av,0.2)\n",
    "\n",
    "proprhof3 = getrhoprop(vf3av,0.2)\n",
    "\n",
    "proprhof4 = getrhoprop(vf4av,0.2)\n"
   ]
  },
  {
   "cell_type": "code",
   "execution_count": 29,
   "metadata": {},
   "outputs": [],
   "source": [
    "def getnuprop(vel,std):\n",
    "    inn4 = np.sqrt(((((9*vel)/((4*g*rho)*sqrt(((9*nu4*vel)/(2*g*rho))+((b**2)/(4*p**2))))))**2)*std)\n",
    "    return inn4\n",
    "\n",
    "propnuf1 = getnuprop(vf1av,(0.004*(10**-5)))\n",
    "\n",
    "propnuf2 = getnuprop(vf2av,(0.004*(10**-5)))\n",
    "\n",
    "propnuf3 = getnuprop(vf3av,(0.004*(10**-5)))\n",
    "\n",
    "propnuf4 = getnuprop(vf4av,(0.004*(10**-5)))\n"
   ]
  },
  {
   "cell_type": "code",
   "execution_count": 30,
   "metadata": {},
   "outputs": [
    {
     "name": "stdout",
     "output_type": "stream",
     "text": [
      "0.006806044961759596\n",
      "0.006462113146936418\n",
      "0.0065662067123447776\n",
      "0.007587564750978135\n"
     ]
    }
   ],
   "source": [
    "totprop1_a = (propvf1 + proppf1 + proprhof1 + propnuf1)\n",
    "totprop2_a = (propvf2 + proppf2 + proprhof2 + propnuf2)\n",
    "totprop3_a = (propvf3 + proppf3 + proprhof3 + propnuf3)\n",
    "totprop4_a = (propvf4 + proppf4 + proprhof4 + propnuf4)\n",
    "\n",
    "print(totprop1_a)\n",
    "print(totprop2_a)\n",
    "print(totprop3_a)\n",
    "print(totprop4_a)"
   ]
  },
  {
   "cell_type": "code",
   "execution_count": 31,
   "metadata": {},
   "outputs": [],
   "source": [
    "def getmassprop(a,std):\n",
    "    inn5 = np.sqrt((((4*np.pi*(a**3))*std)**2))\n",
    "    return inn5"
   ]
  },
  {
   "cell_type": "code",
   "execution_count": 32,
   "metadata": {},
   "outputs": [],
   "source": [
    "propmass_1 = getmassprop(a_av1,totprop1_a)\n",
    "propmass_2 = getmassprop(a_av2,totprop2_a)\n",
    "propmass_3 = getmassprop(a_av3,totprop3_a)\n",
    "propmass_4 = getmassprop(a_av4,totprop4_a)"
   ]
  },
  {
   "cell_type": "code",
   "execution_count": 33,
   "metadata": {},
   "outputs": [],
   "source": [
    "propE = 131.5789"
   ]
  },
  {
   "cell_type": "code",
   "execution_count": 34,
   "metadata": {},
   "outputs": [],
   "source": [
    "def prop_ca(m,velr,velf,std,E):\n",
    "    yike1 = np.sqrt((((g*(velf-velr)*m)/(velf*E))**2)*std)\n",
    "    return yike1\n",
    "\n",
    "\n",
    "parta1 = prop_ca(mass_av1,vr1av,vf1av,propmass_1,E1)\n",
    "parta2 = prop_ca(mass_av2,vr2av,vf2av,propmass_2,E2)\n",
    "parta3 = prop_ca(mass_av3,vr3av,vf3av,propmass_3,E3)\n",
    "parta4 = prop_ca(mass_av4,vr4av,vf4av,propmass_4,E4)"
   ]
  },
  {
   "cell_type": "code",
   "execution_count": 35,
   "metadata": {},
   "outputs": [],
   "source": [
    "def prop_cb(m,velr,velf,std,E):\n",
    "    yike2 = np.sqrt(((-(g*(velf-velr)*m)/(velf*(E**2))**2)*std))\n",
    "    return yike2\n",
    "\n",
    "partb1 = prop_cb(mass_av1,vr1av,vf1av,propE,E1)\n",
    "partb2 = prop_cb(mass_av2,vr2av,vf1av,propE,E2)\n",
    "partb3 = prop_cb(mass_av3,vr3av,vf3av,propE,E3)\n",
    "partb4 = prop_cb(mass_av4,vr4av,vf4av,propE,E4)"
   ]
  },
  {
   "cell_type": "code",
   "execution_count": 36,
   "metadata": {},
   "outputs": [],
   "source": [
    "def prop_cc(m,velr,velf,std,E):\n",
    "    yike3 = np.sqrt(((((g*m)/(E*velf)) - ((g*m*(velf-velr))/(E*(velf**2))))**2)*std)\n",
    "    return yike3\n",
    "\n",
    "partc1 = prop_cc(mass_av1,vr1av,vf1av,timef_prop[0],E1)\n",
    "partc2 = prop_cc(mass_av2,vr2av,vf2av,timef_prop[1],E2)\n",
    "partc3 = prop_cc(mass_av3,vr3av,vf3av,timef_prop[2],E3)\n",
    "partc4 = prop_cc(mass_av4,vr4av,vf4av,timef_prop[3],E4)"
   ]
  },
  {
   "cell_type": "code",
   "execution_count": 37,
   "metadata": {},
   "outputs": [],
   "source": [
    "def prop_cd(m,velr,velf,std,E):\n",
    "    yike4 = np.sqrt(((-(g*m)/(velf*E))**2)*std)\n",
    "    return yike4\n",
    "\n",
    "partd1 = prop_cd(mass_av1,vr1av,vf1av,timer_prop[0],E1)\n",
    "partd2 = prop_cd(mass_av2,vr2av,vf2av,timer_prop[1],E2)\n",
    "partd3 = prop_cd(mass_av3,vr3av,vf3av,timer_prop[2],E3)\n",
    "partd4 = prop_cd(mass_av4,vr4av,vf4av,timer_prop[3],E4)"
   ]
  },
  {
   "cell_type": "code",
   "execution_count": 38,
   "metadata": {},
   "outputs": [],
   "source": [
    "#Final propogation of error on all charge\n",
    "c1_prop = parta1 + partb1 + partc1 + partd1\n",
    "c2_prop = parta2 + partb2 + partc2 + partd2\n",
    "c3_prop = parta3 + partb3 + partc3 + partd3\n",
    "c4_prop = parta4 + partb4 + partc4 + partd4"
   ]
  },
  {
   "cell_type": "code",
   "execution_count": 39,
   "metadata": {},
   "outputs": [
    {
     "name": "stdout",
     "output_type": "stream",
     "text": [
      "(1.0643162472791083e-15, 1.2606862202645247e-15, 1.198242847935394e-15, 7.518057390948538e-16)\n",
      "(9.433748793427382e-15, 9.433748793427382e-15, 9.433748793427382e-15, 9.433748793427382e-15)\n",
      "(3.2709160487231297e-19, 5.2709756439824885e-19, 6.698728471339291e-19, 3.413654737365247e-19)\n"
     ]
    }
   ],
   "source": [
    "all_mass = (mass_av1, mass_av2, mass_av3, mass_av4)\n",
    "all_cprop = (c1_prop, c1_prop, c1_prop, c1_prop)\n",
    "\n",
    "print(all_mass)\n",
    "print(all_cprop)\n",
    "\n",
    "big_m  = (1.0643, 1.2607, 1.1982, 0.7518)\n",
    "big_c = (9.4337, 9.4337, 9.4337, 9.4337)\n",
    "\n",
    "print(charge_av)"
   ]
  },
  {
   "cell_type": "code",
   "execution_count": null,
   "metadata": {},
   "outputs": [],
   "source": []
  },
  {
   "cell_type": "code",
   "execution_count": null,
   "metadata": {},
   "outputs": [],
   "source": []
  },
  {
   "cell_type": "code",
   "execution_count": null,
   "metadata": {},
   "outputs": [],
   "source": []
  }
 ],
 "metadata": {
  "kernelspec": {
   "display_name": "Python 3",
   "language": "python",
   "name": "python3"
  },
  "language_info": {
   "codemirror_mode": {
    "name": "ipython",
    "version": 3
   },
   "file_extension": ".py",
   "mimetype": "text/x-python",
   "name": "python",
   "nbconvert_exporter": "python",
   "pygments_lexer": "ipython3",
   "version": "3.7.4"
  }
 },
 "nbformat": 4,
 "nbformat_minor": 2
}
