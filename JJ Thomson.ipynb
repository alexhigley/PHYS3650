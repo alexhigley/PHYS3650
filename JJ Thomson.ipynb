{
 "cells": [
  {
   "cell_type": "markdown",
   "metadata": {},
   "source": [
    "## J.J. Thomson e/m Lab\n",
    "\n",
    "### Alexandra Higley"
   ]
  },
  {
   "cell_type": "code",
   "execution_count": 1,
   "metadata": {},
   "outputs": [],
   "source": [
    "import numpy as np\n",
    "from scipy.optimize import curve_fit\n",
    "from pylab import *\n",
    "from math import e\n",
    "import matplotlib\n",
    "import matplotlib.pyplot as plt\n",
    "import matplotlib.ticker as ticker\n",
    "import scipy\n",
    "from scipy import stats\n",
    "from scipy.stats import norm"
   ]
  },
  {
   "cell_type": "markdown",
   "metadata": {},
   "source": [
    "Let's work with Experimenter One's data first:"
   ]
  },
  {
   "cell_type": "markdown",
   "metadata": {},
   "source": [
    "### Experimenter One"
   ]
  },
  {
   "cell_type": "code",
   "execution_count": 2,
   "metadata": {},
   "outputs": [],
   "source": [
    "# I -> current through coils in amps (measured)*\n",
    "# a -> mean radius of coil in meters\n",
    "# N -> number of turns of wire on each coil \n",
    "# r -> radius of circle in meters (measured)*\n",
    "# V -> potential difference in Volts (measured)*\n",
    "\n",
    "perm = (4*np.pi)*(10**-7)\n",
    "cons = 2.47*(10**12)\n",
    "N = 132\n",
    "a = 0.1475 #m"
   ]
  },
  {
   "cell_type": "code",
   "execution_count": 3,
   "metadata": {},
   "outputs": [],
   "source": [
    "def em(V,I,r):\n",
    "    em_term = (cons*((a**2)/(N**2))*((V)/((I**2)*(r**2))))\n",
    "    return em_term"
   ]
  },
  {
   "cell_type": "code",
   "execution_count": 4,
   "metadata": {},
   "outputs": [],
   "source": [
    "r = (0.025, 0.0275, 0.03, 0.0325, 0.035, 0.0375, 0.04, 0.0425, 0.045, 0.0475, 0.05, 0.0525, 0.055)#m\n",
    "\n",
    "V = (200, 250, 300, 350, 400, 450, 500) #V"
   ]
  },
  {
   "cell_type": "code",
   "execution_count": 5,
   "metadata": {},
   "outputs": [],
   "source": [
    "#200 Volts\n",
    "I1_1ew = (2.35,2.13, 1.97, 1.81, 1.69, 1.58, 1.48, 1.4, 1.32, 1.25, 1.2, 1.12, 1.06)\n",
    "I1_1ns = (2.45, 2.28, 2.11, 2, 1.88, 1.72, 1.56, 1.49, 1.4, 1.33, 1.25, 1.17, 1.1)\n",
    "\n",
    "#250 Volts\n",
    "I1_2ew = (2.65, 2.39, 2.21, 2.03, 1.9, 1.77, 1.66, 1.56, 1.49, 1.4, 1.34, 1.27, 1.22)\n",
    "I1_2ns = (2.79, 2.6, 2.42, 2.29, 2.19, 1.98, 1.82, 1.7, 1.55, 1.5, 1.41, 1.36, 1.25)\n",
    "\n",
    "#300 Volts\n",
    "I1_3ew = (2.9, 2.62, 2.42, 2.22, 2.07, 1.94, 1.82, 1.71, 1.63, 1.54, 1.48, 1.4, 1.33)\n",
    "I1_3ns = ((10, 2.79,2.65, 2.5, 2.38, 2.22, 2.02, 1.85, 1.74, 1.66, 1.56, 1.44, 1.37)) #first term N/A, using 10 as place holder\n",
    "\n",
    "#350 Volts\n",
    "I1_4ew = (10, 2.28, 2.62, 2.4, 2.25, 2.09, 1.97, 1.84, 1.75, 1.66, 1.59, 1.51, 1.44) #first term N/A\n",
    "I1_4ns = (10, 2.74, 2.82, 2.51, 2.39, 2.26, 2.11, 1.99, 1.83, 1.77, 1.66, 1.54, 1.44) #first term N/A\n",
    "\n",
    "#400 Volts\n",
    "I1_5ew = (10, 10, 2.76, 2.56, 2.39, 2.22, 2.09, 1.96, 1.87, 1.77, 1.64, 1.6, 1.54) #first two terms N/A\n",
    "I1_5ns = (10, 10, 2.92, 2.7, 2.51, 2.39, 2.25, 2.16, 2.08, 1.96, 1.8, 1.7, 1.66) #first two terms N/A\n",
    "\n",
    "#450 Volts\n",
    "I1_6ew = (10, 10, 2.95, 2.71, 2.53, 2.35, 2.21, 2.08, 1.97, 1.86, 1.78, 1.7, 1.62) #first two terms N/A\n",
    "I1_6ns = (10, 10, 10, 2.99, 2.75, 2.55, 2.43, 2.2, 2.08, 1.97, 1.9, 1.81, 1.69) #first three terms N/A\n",
    "\n",
    "#500 Volts\n",
    "I1_7ew = (10, 10, 10, 2.85, 2.67, 2.49, 2.34, 2.18, 2.07, 1.95, 1.88, 1.78, 1.71) #first three terms N/A\n",
    "I1_7ns = (10, 10, 10, 10, 2.85, 2.6, 2.44, 2.27, 2.2, 2.08, 1.99, 1.89, 1.78) #first four terms N/A"
   ]
  },
  {
   "cell_type": "code",
   "execution_count": 6,
   "metadata": {},
   "outputs": [],
   "source": [
    "#200 Volts\n",
    "#I1_1ew = (2.35, 2.13, 1.97, 1.81, 1.69, 1.58, 1.48, 1.4, 1.32, 1.25, 1.2, 1.12, 1.06)\n",
    "#I1_1ns = (2.45, 2.28, 2.11, 2, 1.88, 1.72, 1.56, 1.49, 1.4, 1.33, 1.25, 1.17, 1.1)\n",
    "\n",
    "#250 Volts\n",
    "#I1_2ew = (2.65, 2.39, 2.21, 2.03, 1.9, 1.77, 1.66, 1.56, 1.49, 1.4, 1.34, 1.27, 1.22)\n",
    "#I1_2ns = (2.79, 2.6, 2.42, 2.29, 2.19, 1.98, 1.82, 1.7, 1.55, 1.5, 1.41, 1.36, 1.25)\n",
    "\n",
    "#300 Volts\n",
    "#I1_3ew = (2.9, 2.62, 2.42, 2.22, 2.07, 1.94, 1.82, 1.71, 1.63, 1.54, 1.48, 1.4, 1.33)\n",
    "#I1_3ns = ((2.79,2.65, 2.5, 2.38, 2.22, 2.02, 1.85, 1.74, 1.66, 1.56, 1.44, 1.37)) #first term N/A, using 10 as place holder\n",
    "\n",
    "#350 Volts\n",
    "#I1_4ew = (2.28, 2.62, 2.4, 2.25, 2.09, 1.97, 1.84, 1.75, 1.66, 1.59, 1.51, 1.44) #first term N/A\n",
    "#I1_4ns = (2.74, 2.82, 2.51, 2.39, 2.26, 2.11, 1.99, 1.83, 1.77, 1.66, 1.54, 1.44) #first term N/A\n",
    "\n",
    "#400 Volts\n",
    "#I1_5ew = (2.76, 2.56, 2.39, 2.22, 2.09, 1.96, 1.87, 1.77, 1.64, 1.6, 1.54) #first two terms N/A\n",
    "#I1_5ns = (2.92, 2.7, 2.51, 2.39, 2.25, 2.16, 2.08, 1.96, 1.8, 1.7, 1.66) #first two terms N/A\n",
    "\n",
    "#450 Volts\n",
    "#I1_6ew = (2.95, 2.71, 2.53, 2.35, 2.21, 2.08, 1.97, 1.86, 1.78, 1.7, 1.62) #first two terms N/A\n",
    "#I1_6ns = (2.99, 2.75, 2.55, 2.43, 2.2, 2.08, 1.97, 1.9, 1.81, 1.69) #first three terms N/A\n",
    "\n",
    "#500 Volts\n",
    "#I1_7ew = (2.85, 2.67, 2.49, 2.34, 2.18, 2.07, 1.95, 1.88, 1.78, 1.71) #first three terms N/A\n",
    "#I1_7ns = (2.85, 2.6, 2.44, 2.27, 2.2, 2.08, 1.99, 1.89, 1.78) #first four terms N/A\n",
    "\n",
    "# What was used in chauv function "
   ]
  },
  {
   "cell_type": "code",
   "execution_count": 7,
   "metadata": {},
   "outputs": [],
   "source": [
    "def chauv(array):\n",
    "    print(len(array))\n",
    "    mu, sigma = scipy.stats.norm.fit(array)\n",
    "    print(array)\n",
    "    som = abs(mu+(2*sigma))\n",
    "    optloc = np.where(som >= array)\n",
    "    #opt = array[optloc]\n",
    "    print(optloc)\n",
    "    #print(len(opt))"
   ]
  },
  {
   "cell_type": "markdown",
   "metadata": {},
   "source": [
    "It is determined that trials 1 from 200, 250, and 300 volts on the east-west oriented data should be thrown out. "
   ]
  },
  {
   "cell_type": "code",
   "execution_count": 8,
   "metadata": {},
   "outputs": [],
   "source": [
    "#200 Volts\n",
    "I1_1ew = (10, 2.13, 1.97, 1.81, 1.69, 1.58, 1.48, 1.4, 1.32, 1.25, 1.2, 1.12, 1.06)\n",
    "\n",
    "#250 Volts\n",
    "I1_2ew = (10, 2.39, 2.21, 2.03, 1.9, 1.77, 1.66, 1.56, 1.49, 1.4, 1.34, 1.27, 1.22)\n",
    "\n",
    "#300 Volts\n",
    "I1_3ew = (10, 2.62, 2.42, 2.22, 2.07, 1.94, 1.82, 1.71, 1.63, 1.54, 1.48, 1.4, 1.33)\n",
    "\n",
    "#Using N/A place holder 10"
   ]
  },
  {
   "cell_type": "markdown",
   "metadata": {},
   "source": [
    "### 200 Volts"
   ]
  },
  {
   "cell_type": "code",
   "execution_count": 9,
   "metadata": {},
   "outputs": [
    {
     "name": "stdout",
     "output_type": "stream",
     "text": [
      "[1.79778823 1.7659897  1.78253988 1.76300535 1.7570593  1.76002855\n",
      " 1.74232511 1.74819646 1.74966894 1.71340735 1.78405597 1.8147885 ]\n",
      "1.7649044444113562\n"
     ]
    }
   ],
   "source": [
    "t1_1ew = np.empty(len(I1_1ew))\n",
    "for i in range(len(I1_1ew)):\n",
    "    t1_1ew[i] = (np.array(em(V[0],I1_1ew[i],r[i])))/(10**11)\n",
    "    av1_1ew = np.mean(t1_1ew)\n",
    "\n",
    "#Gotta account for the NA\n",
    "NA_1ew = (t1_1ew[1:13])\n",
    "NAav_1ew = np.mean(NA_1ew)\n",
    "print(NA_1ew)\n",
    "print(NAav_1ew)"
   ]
  },
  {
   "cell_type": "code",
   "execution_count": 10,
   "metadata": {},
   "outputs": [
    {
     "name": "stdout",
     "output_type": "stream",
     "text": [
      "[1.64418598 1.56901843 1.53941498 1.45994473 1.42466036 1.48266726\n",
      " 1.58414141 1.53819973 1.55411098 1.54551287 1.57907622 1.63483075\n",
      " 1.6852036 ]\n",
      "1.556997483528516\n"
     ]
    }
   ],
   "source": [
    "t1_1ns = np.empty(len(I1_1ns))\n",
    "for i in range(len(I1_1ns)):\n",
    "    t1_1ns[i] = (np.array(em(V[0],I1_1ns[i],r[i])))/(10**11)\n",
    "    av1_1ns = np.mean(t1_1ns)\n",
    "    \n",
    "print(t1_1ns)\n",
    "print(av1_1ns)"
   ]
  },
  {
   "cell_type": "markdown",
   "metadata": {},
   "source": [
    "### 250 Volts"
   ]
  },
  {
   "cell_type": "code",
   "execution_count": 11,
   "metadata": {},
   "outputs": [
    {
     "name": "stdout",
     "output_type": "stream",
     "text": [
      "[1.78489203 1.75406662 1.77139063 1.74353171 1.75010486 1.74878726\n",
      " 1.75406662 1.71504522 1.74353171 1.71760595 1.73439132 1.71249022]\n",
      "1.7441586783321406\n"
     ]
    }
   ],
   "source": [
    "t1_2ew = np.empty(len(I1_2ew))\n",
    "for i in range(len(I1_2ew)):\n",
    "    t1_2ew[i] = (np.array(em(V[1],I1_2ew[i],r[i])))/(10**11)\n",
    "    av1_2ew = np.mean(t1_2ew)\n",
    "\n",
    "#Gotta account for the NA\n",
    "NA_2ew = (t1_2ew[1:13])\n",
    "NAav_2ew = np.mean(NA_2ew)\n",
    "print(NA_2ew)\n",
    "print(NAav_2ew)"
   ]
  },
  {
   "cell_type": "code",
   "execution_count": 12,
   "metadata": {},
   "outputs": [
    {
     "name": "stdout",
     "output_type": "stream",
     "text": [
      "[1.58483742 1.50820736 1.46285035 1.39198788 1.31234742 1.39855717\n",
      " 1.45482375 1.47705762 1.58483742 1.51880984 1.55129683 1.51243499\n",
      " 1.63127708]\n",
      "1.491486548523407\n"
     ]
    }
   ],
   "source": [
    "t1_2ns = np.empty(len(I1_2ns))\n",
    "for i in range(len(I1_2ns)):\n",
    "    t1_2ns[i] = (np.array(em(V[1],I1_2ns[i],r[i])))/(10**11)\n",
    "    av1_2ns = np.mean(t1_2ns)\n",
    "    \n",
    "print(t1_2ns)\n",
    "print(av1_2ns)"
   ]
  },
  {
   "cell_type": "markdown",
   "metadata": {},
   "source": [
    "### 300 Volts"
   ]
  },
  {
   "cell_type": "code",
   "execution_count": 13,
   "metadata": {},
   "outputs": [
    {
     "name": "stdout",
     "output_type": "stream",
     "text": [
      "[1.78232302 1.75542042 1.77738584 1.76269676 1.74818903 1.7457885\n",
      " 1.75179913 1.71970578 1.72912235 1.68962741 1.71269373 1.72912235]\n",
      "1.7419895259448663\n"
     ]
    }
   ],
   "source": [
    "t1_3ew = np.empty(len(I1_3ew))\n",
    "for i in range(len(I1_3ew)):\n",
    "    t1_3ew[i] = (np.array(em(V[2],I1_3ew[i],r[i])))/(10**11)\n",
    "    av1_3ew = np.mean(t1_3ew)\n",
    "\n",
    "#Gotta account for the NA\n",
    "NA_3ew = (t1_3ew[1:13])\n",
    "NAav_3ew = np.mean(NA_3ew)\n",
    "print(NA_3ew)\n",
    "print(NAav_3ew)"
   ]
  },
  {
   "cell_type": "code",
   "execution_count": 14,
   "metadata": {},
   "outputs": [
    {
     "name": "stdout",
     "output_type": "stream",
     "text": [
      "[1.57173959 1.46392939 1.40154694 1.33341207 1.33501425 1.4172017\n",
      " 1.49669418 1.50914463 1.48816467 1.52077576 1.6188656  1.62962573]\n",
      "1.4821762088286403\n"
     ]
    }
   ],
   "source": [
    "t1_3ns = np.empty(len(I1_3ns))\n",
    "for i in range(len(I1_3ns)):\n",
    "    t1_3ns[i] = (np.array(em(V[2],I1_3ns[i],r[i])))/(10**11)\n",
    "    av1_3ns = np.mean(t1_3ns)\n",
    "\n",
    "#Gotta account for the NA\n",
    "NA_3ns = (t1_3ns[1:13])\n",
    "NAav_3ns = np.mean(NA_3ns)\n",
    "print(NA_3ns)\n",
    "print(NAav_3ns)"
   ]
  },
  {
   "cell_type": "markdown",
   "metadata": {},
   "source": [
    "### 350 Volts"
   ]
  },
  {
   "cell_type": "code",
   "execution_count": 15,
   "metadata": {},
   "outputs": [
    {
     "name": "stdout",
     "output_type": "stream",
     "text": [
      "[2.74578226 1.74725416 1.77423838 1.7406043  1.75730064 1.73839611\n",
      " 1.7651746  1.7406043  1.73619212 1.70791762 1.71762627 1.72088089]\n",
      "1.8243309706007176\n"
     ]
    }
   ],
   "source": [
    "t1_4ew = np.empty(len(I1_4ew))\n",
    "for i in range(len(I1_4ns)):\n",
    "    t1_4ew[i] = (np.array(em(V[3],I1_4ew[i],r[i])))/(10**11)\n",
    "    av1_4ew = np.mean(t1_4ew)\n",
    "\n",
    "#Gotta account for the NA\n",
    "NA_4ew = (t1_4ew[1:13])\n",
    "NAav_4ew = np.mean(NA_4ew)\n",
    "print(NA_4ew)\n",
    "print(NAav_4ew)"
   ]
  },
  {
   "cell_type": "code",
   "execution_count": 16,
   "metadata": {},
   "outputs": [
    {
     "name": "stdout",
     "output_type": "stream",
     "text": [
      "[1.90123002 1.50820526 1.62213506 1.54265668 1.5028712  1.51536162\n",
      " 1.50909702 1.59174674 1.52709981 1.56691339 1.65135759 1.72088089]\n",
      "1.5966296068269559\n"
     ]
    }
   ],
   "source": [
    "t1_4ns = np.empty(len(I1_4ns))\n",
    "for i in range(len(I1_3ns)):\n",
    "    t1_4ns[i] = (np.array(em(V[3],I1_4ns[i],r[i])))/(10**11)\n",
    "    av1_4ns = np.mean(t1_4ns)\n",
    "\n",
    "#Gotta account for the NA\n",
    "NA_4ns = (t1_4ns[1:13])\n",
    "NAav_4ns = np.mean(NA_4ns)\n",
    "print(NA_4ns)\n",
    "print(NAav_4ns)"
   ]
  },
  {
   "cell_type": "markdown",
   "metadata": {},
   "source": [
    "### 400 Volts"
   ]
  },
  {
   "cell_type": "code",
   "execution_count": 17,
   "metadata": {},
   "outputs": [
    {
     "name": "stdout",
     "output_type": "stream",
     "text": [
      "[1.79941961 1.78215909 1.76303621 1.780019   1.76514574 1.77788277\n",
      " 1.74214734 1.74525693 1.83470151 1.74837485 1.71959551]\n",
      "1.7688853228209291\n"
     ]
    }
   ],
   "source": [
    "t1_5ew = np.empty(len(I1_5ew))\n",
    "for i in range(len(I1_5ns)):\n",
    "    t1_5ew[i] = (np.array(em(V[4],I1_5ew[i],r[i])))/(10**11)\n",
    "    av1_5ew = np.mean(t1_5ew)\n",
    "\n",
    "#Gotta account for the NA\n",
    "NA_5ew = (t1_5ew[2:13])\n",
    "NAav_5ew = np.mean(NA_5ew)\n",
    "print(NA_5ew)\n",
    "print(NAav_5ew)"
   ]
  },
  {
   "cell_type": "code",
   "execution_count": 18,
   "metadata": {},
   "outputs": [
    {
     "name": "stdout",
     "output_type": "stream",
     "text": [
      "[1.60762559 1.60213413 1.59848878 1.53580043 1.52302876 1.4638877\n",
      " 1.4081257  1.42329119 1.52302876 1.54873343 1.47996542]\n",
      "1.519464534674799\n"
     ]
    }
   ],
   "source": [
    "t1_5ns = np.empty(len(I1_5ns))\n",
    "for i in range(len(I1_5ns)):\n",
    "    t1_5ns[i] = (np.array(em(V[4],I1_5ns[i],r[i])))/(10**11)\n",
    "    av1_5ns = np.mean(t1_4ns)\n",
    "\n",
    "#Gotta account for the NA\n",
    "NA_5ns = (t1_5ns[2:13])\n",
    "NAav_5ns = np.mean(NA_5ns)\n",
    "print(NA_5ns)\n",
    "print(NAav_5ns)"
   ]
  },
  {
   "cell_type": "markdown",
   "metadata": {},
   "source": [
    "### 450 Volts"
   ]
  },
  {
   "cell_type": "code",
   "execution_count": 19,
   "metadata": {},
   "outputs": [
    {
     "name": "stdout",
     "output_type": "stream",
     "text": [
      "[1.77198118 1.78912359 1.76998063 1.78709395 1.77599245 1.77599245\n",
      " 1.7659897  1.7780032  1.7521272  1.74232511 1.74819646]\n",
      "1.7688005378745073\n"
     ]
    }
   ],
   "source": [
    "t1_6ew = np.empty(len(I1_6ew))\n",
    "for i in range(len(I1_6ns)):\n",
    "    t1_6ew[i] = (np.array(em(V[5],I1_6ew[i],r[i])))/(10**11)\n",
    "    av1_6ew = np.mean(t1_6ew)\n",
    "\n",
    "#Gotta account for the NA\n",
    "NA_6ew = (t1_6ew[2:13])\n",
    "NAav_6ew = np.mean(NA_6ew)\n",
    "print(NA_6ew)\n",
    "print(NAav_6ew)"
   ]
  },
  {
   "cell_type": "code",
   "execution_count": 20,
   "metadata": {},
   "outputs": [
    {
     "name": "stdout",
     "output_type": "stream",
     "text": [
      "[1.46972657 1.49811161 1.51775876 1.46897064 1.58753176 1.58414141\n",
      " 1.58498798 1.53779497 1.53698592 1.60637471]\n",
      "1.5392384332243414\n"
     ]
    }
   ],
   "source": [
    "t1_6ns = np.empty(len(I1_6ns))\n",
    "for i in range(len(I1_6ns)):\n",
    "    t1_6ns[i] = (np.array(em(V[5],I1_6ns[i],r[i])))/(10**11)\n",
    "    av1_6ns = np.mean(t1_6ns)\n",
    "\n",
    "#Gotta account for the NA\n",
    "NA_6ns = (t1_6ns[3:13])\n",
    "NAav_6ns = np.mean(NA_6ns)\n",
    "print(NA_6ns)\n",
    "print(NAav_6ns)"
   ]
  },
  {
   "cell_type": "markdown",
   "metadata": {},
   "source": [
    "### 500 Volts"
   ]
  },
  {
   "cell_type": "code",
   "execution_count": 21,
   "metadata": {},
   "outputs": [
    {
     "name": "stdout",
     "output_type": "stream",
     "text": [
      "[1.7974081  1.76581225 1.76865003 1.76015713 1.79643823 1.77720455\n",
      " 1.7974081  1.74520894 1.76581225 1.74335381]\n",
      "1.7717453379237056\n"
     ]
    }
   ],
   "source": [
    "t1_7ew = np.empty(len(I1_7ew))\n",
    "for i in range(len(I1_7ew)):\n",
    "    t1_7ew[i] = (np.array(em(V[6],I1_7ew[i],r[i])))/(10**11)\n",
    "    av1_7ew = np.mean(t1_6ew)\n",
    "\n",
    "#Gotta account for the NA\n",
    "NA_7ew = (t1_7ew[3:13])\n",
    "NAav_7ew = np.mean(NA_7ew)\n",
    "print(NA_7ew)\n",
    "print(NAav_7ew)"
   ]
  },
  {
   "cell_type": "code",
   "execution_count": 22,
   "metadata": {},
   "outputs": [
    {
     "name": "stdout",
     "output_type": "stream",
     "text": [
      "[1.54980596 1.62216081 1.61883841 1.65681326 1.57337682 1.57975321\n",
      " 1.55760371 1.56624941 1.60893223]\n",
      "1.592614869311932\n"
     ]
    }
   ],
   "source": [
    "t1_7ns = np.empty(len(I1_7ns))\n",
    "for i in range(len(I1_7ns)):\n",
    "    t1_7ns[i] = (np.array(em(V[6],I1_7ns[i],r[i])))/(10**11)\n",
    "    av1_7ns = np.mean(t1_7ns)\n",
    "\n",
    "#Gotta account for the NA\n",
    "NA_7ns = (t1_7ns[4:13])\n",
    "NAav_7ns = np.mean(NA_7ns)\n",
    "print(NA_7ns)\n",
    "print(NAav_7ns)"
   ]
  },
  {
   "cell_type": "markdown",
   "metadata": {},
   "source": [
    "Okay, so now we have figured out what data is relevant, calculated e/m for each trial on each voltage at each radius, and averaged them for all voltages for both east-west and north-south data. We need to back track a little and figure out some error now. I'm going to redefine the raw data first without the placeholders (10) so we can find standard deviation on the raw data (the currents)"
   ]
  },
  {
   "cell_type": "markdown",
   "metadata": {},
   "source": [
    "### Standard Deviation"
   ]
  },
  {
   "cell_type": "code",
   "execution_count": 23,
   "metadata": {},
   "outputs": [],
   "source": [
    "#200 Volts\n",
    "I1_1ew = (2.13, 1.97, 1.81, 1.69, 1.58, 1.48, 1.4, 1.32, 1.25, 1.2, 1.12, 1.06)\n",
    "I1_1ns = (2.45, 2.28, 2.11, 2, 1.88, 1.72, 1.56, 1.49, 1.4, 1.33, 1.25, 1.17, 1.1)\n",
    "\n",
    "#250 Volts\n",
    "I1_2ew = (2.39, 2.21, 2.03, 1.9, 1.77, 1.66, 1.56, 1.49, 1.4, 1.34, 1.27, 1.22)\n",
    "I1_2ns = (2.79, 2.6, 2.42, 2.29, 2.19, 1.98, 1.82, 1.7, 1.55, 1.5, 1.41, 1.36, 1.25)\n",
    "\n",
    "#300 Volts\n",
    "I1_3ew = (2.62, 2.42, 2.22, 2.07, 1.94, 1.82, 1.71, 1.63, 1.54, 1.48, 1.4, 1.33)\n",
    "I1_3ns = ((2.79,2.65, 2.5, 2.38, 2.22, 2.02, 1.85, 1.74, 1.66, 1.56, 1.44, 1.37))\n",
    "\n",
    "#350 Volts\n",
    "I1_4ew = (2.28, 2.62, 2.4, 2.25, 2.09, 1.97, 1.84, 1.75, 1.66, 1.59, 1.51, 1.44)\n",
    "I1_4ns = (2.74, 2.82, 2.51, 2.39, 2.26, 2.11, 1.99, 1.83, 1.77, 1.66, 1.54, 1.44)\n",
    "\n",
    "#400 Volts\n",
    "I1_5ew = (2.76, 2.56, 2.39, 2.22, 2.09, 1.96, 1.87, 1.77, 1.64, 1.6, 1.54)\n",
    "I1_5ns = (2.92, 2.7, 2.51, 2.39, 2.25, 2.16, 2.08, 1.96, 1.8, 1.7, 1.66) \n",
    "\n",
    "#450 Volts\n",
    "I1_6ew = (2.95, 2.71, 2.53, 2.35, 2.21, 2.08, 1.97, 1.86, 1.78, 1.7, 1.62) \n",
    "I1_6ns = (2.99, 2.75, 2.55, 2.43, 2.2, 2.08, 1.97, 1.9, 1.81, 1.69)\n",
    "\n",
    "#500 Volts\n",
    "I1_7ew = (2.85, 2.67, 2.49, 2.34, 2.18, 2.07, 1.95, 1.88, 1.78, 1.71)\n",
    "I1_7ns = (2.85, 2.6, 2.44, 2.27, 2.2, 2.08, 1.99, 1.89, 1.78)"
   ]
  },
  {
   "cell_type": "code",
   "execution_count": 24,
   "metadata": {},
   "outputs": [],
   "source": [
    "#East-West:\n",
    "std1_1ew = np.std(I1_1ew)\n",
    "std1_2ew = np.std(I1_2ew)\n",
    "std1_3ew = np.std(I1_3ew)\n",
    "std1_4ew = np.std(I1_4ew)\n",
    "std1_5ew = np.std(I1_5ew)\n",
    "std1_6ew = np.std(I1_6ew)\n",
    "std1_7ew = np.std(I1_7ew)\n",
    "\n",
    "#North-South:\n",
    "std1_1ns = np.std(I1_1ns)\n",
    "std1_2ns = np.std(I1_2ns)\n",
    "std1_3ns = np.std(I1_3ns)\n",
    "std1_4ns = np.std(I1_4ns)\n",
    "std1_5ns = np.std(I1_5ns)\n",
    "std1_6ns = np.std(I1_6ns)\n",
    "std1_7ns = np.std(I1_7ns)"
   ]
  },
  {
   "cell_type": "code",
   "execution_count": 25,
   "metadata": {},
   "outputs": [
    {
     "name": "stdout",
     "output_type": "stream",
     "text": [
      "0.3278327402129866 0.363784124019849 0.39643901030157075 0.36398260031673674 0.38821907421812346 0.41365334630471795 0.36676422944447573\n"
     ]
    }
   ],
   "source": [
    "print(std1_1ew, std1_2ew, std1_3ew, std1_4ew, std1_5ew, std1_6ew, std1_7ew)\n",
    "ewstd = (std1_1ew, std1_2ew, std1_3ew, std1_4ew, std1_5ew, std1_6ew, std1_7ew)"
   ]
  },
  {
   "cell_type": "code",
   "execution_count": 26,
   "metadata": {},
   "outputs": [
    {
     "name": "stdout",
     "output_type": "stream",
     "text": [
      "0.42188503439742997 0.48644952060278007 0.46519709084788274 0.4416792451039052 0.39055374970029244 0.40716212986966266 0.32761766334148307\n"
     ]
    }
   ],
   "source": [
    "print(std1_1ns, std1_2ns, std1_3ns, std1_4ns, std1_5ns, std1_6ns, std1_7ns)\n",
    "nsstd = (std1_1ns, std1_2ns, std1_3ns, std1_4ns, std1_5ns, std1_6ns, std1_7ns)"
   ]
  },
  {
   "cell_type": "markdown",
   "metadata": {},
   "source": [
    "### Error Prop"
   ]
  },
  {
   "cell_type": "code",
   "execution_count": 27,
   "metadata": {},
   "outputs": [],
   "source": [
    "stdr = 0.0005\n",
    "stdV = 1\n",
    "\n",
    "#Partial derivatives:\n",
    "\n",
    "#current\n",
    "#-((2*(a**2)*cons*(V**2))/((N**2)*(r**2)*(I**3)))\n",
    "\n",
    "#Voltage; 1\n",
    "#(2*(a**2)*cons*V)/((N**2)*(r**2)*(I**2))\n",
    "\n",
    "#radius; 0.0005\n",
    "#-((2*(a**2)*cons*(V**2))/((N**2)*(r**3)*(I**2)))"
   ]
  },
  {
   "cell_type": "code",
   "execution_count": 28,
   "metadata": {},
   "outputs": [],
   "source": [
    "def getprop(V,r,I,std):\n",
    "    part1a = -((2*(a**2)*cons*(V**2))/((N**2)*(r**2)*(I**3)))\n",
    "    part1b = (part1a**2)*(std**2)\n",
    "    \n",
    "    part2a = (2*(a**2)*cons*V)/((N**2)*(r**2)*(I**2))\n",
    "    part2b = (part2a**2)*(stdV**2)\n",
    "    \n",
    "    part3a = -((2*(a**2)*cons*(V**2))/((N**2)*(r**3)*(I**2)))\n",
    "    part3b = (part3a**2)*(stdr**2)\n",
    "    \n",
    "    partc = part1b + part2b + part3b\n",
    "    \n",
    "    partd = np.sqrt(partc)\n",
    "    \n",
    "    return partd"
   ]
  },
  {
   "cell_type": "markdown",
   "metadata": {},
   "source": [
    "#### East-West"
   ]
  },
  {
   "cell_type": "code",
   "execution_count": 29,
   "metadata": {},
   "outputs": [
    {
     "name": "stdout",
     "output_type": "stream",
     "text": [
      "[0.13511946 0.14079323 0.15226222 0.15920382 0.16784967 0.17779655\n",
      " 0.1845389  0.19496215 0.20473333 0.20765349 0.23046127 0.24654815]\n",
      "0.1834935195264037\n"
     ]
    }
   ],
   "source": [
    "prop1_1ew = np.empty(len(I1_1ew))\n",
    "for i in range(len(I1_1ew)):\n",
    "    prop1_1ew[i] = (np.array(getprop(V[0],r[i],I1_1ew[i],ewstd[0]))/(10E13))\n",
    "                    \n",
    "print(prop1_1ew)\n",
    "print(np.mean(prop1_1ew))"
   ]
  },
  {
   "cell_type": "code",
   "execution_count": 30,
   "metadata": {},
   "outputs": [
    {
     "name": "stdout",
     "output_type": "stream",
     "text": [
      "[0.16583554 0.17290381 0.18712581 0.19424551 0.20699479 0.21846129\n",
      " 0.23124899 0.23502387 0.25265377 0.25855834 0.27405801 0.28038142]\n",
      "0.22312426162687912\n"
     ]
    }
   ],
   "source": [
    "prop1_2ew = np.empty(len(I1_2ew))\n",
    "for i in range(len(I1_2ew)):\n",
    "    prop1_2ew[i] = (np.array(getprop(V[1],r[i],I1_2ew[i],ewstd[1]))/(10E13))\n",
    "                    \n",
    "print(prop1_2ew)\n",
    "print(np.mean(prop1_2ew))"
   ]
  },
  {
   "cell_type": "code",
   "execution_count": 31,
   "metadata": {},
   "outputs": [
    {
     "name": "stdout",
     "output_type": "stream",
     "text": [
      "[0.19754345 0.20664166 0.22451165 0.23570368 0.24669303 0.2601166\n",
      " 0.27551726 0.28170174 0.29787587 0.30114683 0.32103959 0.33959179]\n",
      "0.2656735964092763\n"
     ]
    }
   ],
   "source": [
    "prop1_3ew = np.empty(len(I1_3ew))\n",
    "for i in range(len(I1_3ew)):\n",
    "    prop1_3ew[i] = (np.array(getprop(V[2],r[i],I1_3ew[i],ewstd[2]))/(10E13))\n",
    "                    \n",
    "print(prop1_3ew)\n",
    "print(np.mean(prop1_3ew))"
   ]
  },
  {
   "cell_type": "code",
   "execution_count": 32,
   "metadata": {},
   "outputs": [
    {
     "name": "stdout",
     "output_type": "stream",
     "text": [
      "[0.37423591 0.20398054 0.22242649 0.22966129 0.24678524 0.25650639\n",
      " 0.27651382 0.28459176 0.29732006 0.30359432 0.31982532 0.3344333 ]\n",
      "0.2791562039439827\n"
     ]
    }
   ],
   "source": [
    "prop1_4ew = np.empty(len(I1_4ew))\n",
    "for i in range(len(I1_4ew)):\n",
    "    prop1_4ew[i] = (np.array(getprop(V[3],r[i],I1_4ew[i],ewstd[3]))/(10E13))\n",
    "                    \n",
    "print(prop1_4ew)\n",
    "print(np.mean(prop1_4ew))"
   ]
  },
  {
   "cell_type": "code",
   "execution_count": 33,
   "metadata": {},
   "outputs": [
    {
     "name": "stdout",
     "output_type": "stream",
     "text": [
      "[0.29455493 0.304181   0.31350813 0.33285306 0.34364081 0.36269823\n",
      " 0.36688703 0.3831019  0.42944293 0.41499621 0.41997222]\n",
      "0.36053058608517125\n"
     ]
    }
   ],
   "source": [
    "prop1_5ew = np.empty(len(I1_5ew))\n",
    "for i in range(len(I1_5ew)):\n",
    "    prop1_5ew[i] = (np.array(getprop(V[4],r[i],I1_5ew[i],ewstd[4]))/(10E13))\n",
    "                    \n",
    "print(prop1_5ew)\n",
    "print(np.mean(prop1_5ew))"
   ]
  },
  {
   "cell_type": "code",
   "execution_count": 34,
   "metadata": {},
   "outputs": [
    {
     "name": "stdout",
     "output_type": "stream",
     "text": [
      "[0.32531593 0.34574522 0.35637325 0.37839136 0.39192547 0.40923525\n",
      " 0.423154   0.44518082 0.45295526 0.46656783 0.48650674]\n",
      "0.4073955579010376\n"
     ]
    }
   ],
   "source": [
    "prop1_6ew = np.empty(len(I1_6ew))\n",
    "for i in range(len(I1_6ew)):\n",
    "    prop1_6ew[i] = (np.array(getprop(V[5],r[i],I1_6ew[i],ewstd[5]))/(10E13))\n",
    "                    \n",
    "print(prop1_6ew)\n",
    "print(np.mean(prop1_6ew))"
   ]
  },
  {
   "cell_type": "code",
   "execution_count": 35,
   "metadata": {},
   "outputs": [
    {
     "name": "stdout",
     "output_type": "stream",
     "text": [
      "[0.3956482  0.39637619 0.40968649 0.4199455  0.44727543 0.45474745\n",
      " 0.47780175 0.47211707 0.49597068 0.50194461]\n",
      "0.4471513355897546\n"
     ]
    }
   ],
   "source": [
    "prop1_7ew = np.empty(len(I1_7ew))\n",
    "for i in range(len(I1_7ew)):\n",
    "    prop1_7ew[i] = (np.array(getprop(V[6],r[i],I1_7ew[i],ewstd[6]))/(10E13))\n",
    "                    \n",
    "print(prop1_7ew)\n",
    "print(np.mean(prop1_7ew))"
   ]
  },
  {
   "cell_type": "markdown",
   "metadata": {},
   "source": [
    "#### North-South"
   ]
  },
  {
   "cell_type": "code",
   "execution_count": 36,
   "metadata": {},
   "outputs": [
    {
     "name": "stdout",
     "output_type": "stream",
     "text": [
      "[0.11405891 0.11673224 0.123585   0.12354746 0.128172   0.14571358\n",
      " 0.17157774 0.17439046 0.18748339 0.19623116 0.21329729 0.2359034\n",
      " 0.25862628]\n",
      "0.16840914672092414\n"
     ]
    }
   ],
   "source": [
    "prop1_1ns = np.empty(len(I1_1ns))\n",
    "for i in range(len(I1_1ns)):\n",
    "    prop1_1ns[i] = (np.array(getprop(V[0],r[i],I1_1ns[i],nsstd[0]))/(10E13))\n",
    "                    \n",
    "print(prop1_1ns)\n",
    "print(np.mean(prop1_1ns))"
   ]
  },
  {
   "cell_type": "code",
   "execution_count": 37,
   "metadata": {},
   "outputs": [
    {
     "name": "stdout",
     "output_type": "stream",
     "text": [
      "[0.13910402 0.14178649 0.1475589  0.14825876 0.14607603 0.17207542\n",
      " 0.19465686 0.2115268  0.24886742 0.24642319 0.26772881 0.27059927\n",
      " 0.31751694]\n",
      "0.20401376277602815\n"
     ]
    }
   ],
   "source": [
    "prop1_2ns = np.empty(len(I1_2ns))\n",
    "for i in range(len(I1_2ns)):\n",
    "    prop1_2ns[i] = (np.array(getprop(V[1],r[i],I1_2ns[i],nsstd[1]))/(10E13))\n",
    "                    \n",
    "print(prop1_2ns)\n",
    "print(np.mean(prop1_2ns))"
   ]
  },
  {
   "cell_type": "code",
   "execution_count": 38,
   "metadata": {},
   "outputs": [
    {
     "name": "stdout",
     "output_type": "stream",
     "text": [
      "[0.19166268 0.18451602 0.18440993 0.18194868 0.19315644 0.22320195\n",
      " 0.25525923 0.2716882  0.27903912 0.30170264 0.34613555 0.36454738]\n",
      "0.24810565070959797\n"
     ]
    }
   ],
   "source": [
    "prop1_3ns = np.empty(len(I1_3ns))\n",
    "for i in range(len(I1_3ns)):\n",
    "    prop1_3ns[i] = (np.array(getprop(V[2],r[i],I1_3ns[i],nsstd[2]))/(10E13))\n",
    "                    \n",
    "print(prop1_3ns)\n",
    "print(np.mean(prop1_3ns))"
   ]
  },
  {
   "cell_type": "code",
   "execution_count": 39,
   "metadata": {},
   "outputs": [
    {
     "name": "stdout",
     "output_type": "stream",
     "text": [
      "[0.26161277 0.1981397  0.23558008 0.2322721  0.23667269 0.25317209\n",
      " 0.26512491 0.30187057 0.29752255 0.32363786 0.36575425 0.40572167]\n",
      "0.281423436509247\n"
     ]
    }
   ],
   "source": [
    "prop1_4ns = np.empty(len(I1_4ns))\n",
    "for i in range(len(I1_4ns)):\n",
    "    prop1_4ns[i] = (np.array(getprop(V[3],r[i],I1_4ns[i],nsstd[3]))/(10E13))\n",
    "                    \n",
    "print(prop1_4ns)\n",
    "print(np.mean(prop1_4ns))"
   ]
  },
  {
   "cell_type": "code",
   "execution_count": 40,
   "metadata": {},
   "outputs": [
    {
     "name": "stdout",
     "output_type": "stream",
     "text": [
      "[0.25050211 0.26102077 0.27241615 0.26851595 0.2771985  0.2727464\n",
      " 0.26831966 0.28392755 0.32682768 0.34810559 0.33737746]\n",
      "0.2879052546352401\n"
     ]
    }
   ],
   "source": [
    "prop1_5ns = np.empty(len(I1_5ns))\n",
    "for i in range(len(I1_5ns)):\n",
    "    prop1_5ns[i] = (np.array(getprop(V[4],r[i],I1_5ns[i],nsstd[4]))/(10E13))\n",
    "                    \n",
    "print(prop1_5ns)\n",
    "print(np.mean(prop1_5ns))"
   ]
  },
  {
   "cell_type": "code",
   "execution_count": 41,
   "metadata": {},
   "outputs": [
    {
     "name": "stdout",
     "output_type": "stream",
     "text": [
      "[0.30771793 0.32582951 0.34267877 0.33700073 0.3910862  0.40284313\n",
      " 0.41653808 0.41114369 0.42407732 0.46745603]\n",
      "0.382637137838767\n"
     ]
    }
   ],
   "source": [
    "prop1_6ns = np.empty(len(I1_6ns))\n",
    "for i in range(len(I1_6ns)):\n",
    "    prop1_6ns[i] = (np.array(getprop(V[5],r[i],I1_6ns[i],nsstd[5]))/(10E13))\n",
    "                    \n",
    "print(prop1_6ns)\n",
    "print(np.mean(prop1_6ns))"
   ]
  },
  {
   "cell_type": "code",
   "execution_count": 42,
   "metadata": {},
   "outputs": [
    {
     "name": "stdout",
     "output_type": "stream",
     "text": [
      "[0.35448283 0.38407253 0.38942709 0.41126419 0.38912965 0.40068507\n",
      " 0.40185681 0.41527319 0.44320115]\n",
      "0.3988213887788748\n"
     ]
    }
   ],
   "source": [
    "prop1_7ns = np.empty(len(I1_7ns))\n",
    "for i in range(len(I1_7ns)):\n",
    "    prop1_7ns[i] = (np.array(getprop(V[6],r[i],I1_7ns[i],nsstd[6]))/(10E13))\n",
    "                    \n",
    "print(prop1_7ns)\n",
    "print(np.mean(prop1_7ns))"
   ]
  },
  {
   "cell_type": "markdown",
   "metadata": {},
   "source": [
    "### Experimenter Two"
   ]
  },
  {
   "cell_type": "code",
   "execution_count": 43,
   "metadata": {},
   "outputs": [],
   "source": [
    "r2 = (0.0275, 0.03, 0.0325, 0.035, 0.0375, 0.04, 0.0425, 0.045, 0.0475, 0.05, 0.0525, 0.055)"
   ]
  },
  {
   "cell_type": "code",
   "execution_count": 44,
   "metadata": {},
   "outputs": [],
   "source": [
    "#r2[0]\n",
    "I2a_1 = (2.61, 2.64, 2.62, 2.58, 2.65, 2.63, 2.61, 2.59) #250 V\n",
    "I2b_1 = (2.99) #400 V\n",
    "\n",
    "#r2[1]\n",
    "I2b_2 = (2.92, 2.88, 2.92, 2.9) #400 V\n",
    "\n",
    "#r2[2]\n",
    "I2a_3 = (2.29, 2.29, 2.34, 2.27, 2.28, 2.27, 2.3, 2.26) #250 V\n",
    "I2b_3 = (2.75, 2.77, 2.69, 2.67) #400 V\n",
    "\n",
    "#r2[3]\n",
    "I2b_4 = (2.44, 2.51, 2.52, 2.52) #400 V\n",
    "\n",
    "#r2[4]\n",
    "I2a_5 = (2.01, 2.02, 2.04, 1.96, 1.96, 1.95, 1.99, 2.01) #250 V\n",
    "I2b_5 = (2.41, 2.36, 2.34, 2.36) #400 V\n",
    "\n",
    "#r2[5]\n",
    "I2b_6 = (2.25, 2.3, 2.19, 2.24) #400 V\n",
    "\n",
    "#r2[6]\n",
    "I2b_7 = (2.18, 2.14, 2.17, 2.16) #400 V\n",
    "\n",
    "#r2[7]\n",
    "I2b_8 = (2.1, 2.05, 2.05, 2.07) #400 V\n",
    "\n",
    "#r2[8]\n",
    "I2a_9 = (1.53, 1.52, 1.49, 1.52, 1.49, 1.5, 1.52, 1.48) #250 V\n",
    "I2b_9 = (1.99, 1.96, 1.94, 1.97) #400 V\n",
    "\n",
    "#r2[9]\n",
    "I2b_10 = (2.01, 1.81, 1.82, 1.83) #400 V\n",
    "\n",
    "#r2[10]\n",
    "I2a_11 = (1.35, 1.35, 1.37, 1.32, 1.38, 1.36, 1.35, 1.22) #250 V\n",
    "I2b_11 = (1.67, 1.74, 1.71, 1.71) #400 V\n",
    "\n",
    "#r2[11]\n",
    "I2b_12 = (1.62, 1.65, 1.67, 1.68) #400 V"
   ]
  },
  {
   "cell_type": "markdown",
   "metadata": {},
   "source": [
    "Doing Chuav on this, there is no major outliers that can be ignored for the data from experimenter 2"
   ]
  },
  {
   "cell_type": "markdown",
   "metadata": {},
   "source": [
    "### 250 Volts"
   ]
  },
  {
   "cell_type": "code",
   "execution_count": 45,
   "metadata": {},
   "outputs": [
    {
     "name": "stdout",
     "output_type": "stream",
     "text": [
      "[1.49667236 1.46285035 1.48526918 1.53168105 1.4518308  1.47399583\n",
      " 1.49667236 1.51987623]\n",
      "1.4898560203000417\n"
     ]
    }
   ],
   "source": [
    "t2a_1 = np.empty(len(I2a_1))\n",
    "for i in range(len(I2a_1)):\n",
    "    t2a_1[i] = (np.array(em(250,I2a_1[i],r2[0])))/(10**11)\n",
    "    av2a_1 = np.mean(t2a_1)\n",
    "    \n",
    "print(t2a_1)\n",
    "print(av2a_1)"
   ]
  },
  {
   "cell_type": "code",
   "execution_count": 46,
   "metadata": {},
   "outputs": [
    {
     "name": "stdout",
     "output_type": "stream",
     "text": [
      "[1.39198788 1.39198788 1.33313676 1.41662435 1.40422508 1.41662435\n",
      " 1.37990995 1.42918859]\n",
      "1.3954606048662719\n"
     ]
    }
   ],
   "source": [
    "t2a_3 = np.empty(len(I2a_3))\n",
    "for i in range(len(I2a_3)):\n",
    "    t2a_3[i] = (np.array(em(250,I2a_3[i],r2[2])))/(10**11)\n",
    "    av2a_3 = np.mean(t2a_3)\n",
    "    \n",
    "print(t2a_3)\n",
    "print(av2a_3)"
   ]
  },
  {
   "cell_type": "code",
   "execution_count": 47,
   "metadata": {},
   "outputs": [
    {
     "name": "stdout",
     "output_type": "stream",
     "text": [
      "[1.35712075 1.34371717 1.31749893 1.42724478 1.42724478 1.44192072\n",
      " 1.38453664 1.35712075]\n",
      "1.382050561559368\n"
     ]
    }
   ],
   "source": [
    "t2a_5 = np.empty(len(I2a_5))\n",
    "for i in range(len(I2a_5)):\n",
    "    t2a_5[i] = (np.array(em(250,I2a_5[i],r2[4])))/(10**11)\n",
    "    av2a_5 = np.mean(t2a_5)\n",
    "    \n",
    "print(t2a_5)\n",
    "print(av2a_5)"
   ]
  },
  {
   "cell_type": "code",
   "execution_count": 48,
   "metadata": {},
   "outputs": [
    {
     "name": "stdout",
     "output_type": "stream",
     "text": [
      "[1.4598326  1.47910411 1.53926496 1.47910411 1.53926496 1.51880984\n",
      " 1.47910411 1.56013611]\n",
      "1.5068276037294883\n"
     ]
    }
   ],
   "source": [
    "t2a_9 = np.empty(len(I2a_9))\n",
    "for i in range(len(I2a_9)):\n",
    "    t2a_9[i] = (np.array(em(250,I2a_9[i],r2[8])))/(10**11)\n",
    "    av2a_9 = np.mean(t2a_9)\n",
    "    \n",
    "print(t2a_9)\n",
    "print(av2a_9)"
   ]
  },
  {
   "cell_type": "code",
   "execution_count": 49,
   "metadata": {},
   "outputs": [
    {
     "name": "stdout",
     "output_type": "stream",
     "text": [
      "[1.53492442 1.53492442 1.49043623 1.60548655 1.46891397 1.51243499\n",
      " 1.53492442 1.87946772]\n",
      "1.5701890911202194\n"
     ]
    }
   ],
   "source": [
    "t2a_11 = np.empty(len(I2a_11))\n",
    "for i in range(len(I2a_11)):\n",
    "    t2a_11[i] = (np.array(em(250,I2a_11[i],r2[10])))/(10**11)\n",
    "    av2a_11 = np.mean(t2a_11)\n",
    "    \n",
    "print(t2a_11)\n",
    "print(av2a_11)"
   ]
  },
  {
   "cell_type": "markdown",
   "metadata": {},
   "source": [
    "### 400 Volts"
   ]
  },
  {
   "cell_type": "code",
   "execution_count": 50,
   "metadata": {},
   "outputs": [
    {
     "name": "stdout",
     "output_type": "stream",
     "text": [
      "1.8246743139123325\n",
      "1.8246743139123325\n"
     ]
    }
   ],
   "source": [
    "# Only one value so the loop has to go\n",
    "t2b_1 = (np.array(em(400,I2b_1,r2[0])))/(10**11)\n",
    "av2b_1 = np.mean(t2b_1)\n",
    "    \n",
    "print(t2b_1)\n",
    "print(av2b_1)"
   ]
  },
  {
   "cell_type": "code",
   "execution_count": 51,
   "metadata": {},
   "outputs": [
    {
     "name": "stdout",
     "output_type": "stream",
     "text": [
      "[1.60762559 1.65259197 1.60762559 1.6298762 ]\n",
      "1.624429836411745\n"
     ]
    }
   ],
   "source": [
    "t2b_2 = np.empty(len(I2b_2))\n",
    "for i in range(len(I2b_2)):\n",
    "    t2b_2[i] = (np.array(em(400,I2b_2[i],r2[1])))/(10**11)\n",
    "    av2b_2 = np.mean(t2b_2)\n",
    "    \n",
    "print(t2b_2)\n",
    "print(av2b_2)"
   ]
  },
  {
   "cell_type": "code",
   "execution_count": 52,
   "metadata": {},
   "outputs": [
    {
     "name": "stdout",
     "output_type": "stream",
     "text": [
      "[1.54440434 1.52218298 1.61406805 1.63833941]\n",
      "1.579748695593433\n"
     ]
    }
   ],
   "source": [
    "t2b_3 = np.empty(len(I2b_3))\n",
    "for i in range(len(I2b_3)):\n",
    "    t2b_3[i] = (np.array(em(400,I2b_3[i],r2[2])))/(10**11)\n",
    "    av2b_3 = np.mean(t2b_3)\n",
    "    \n",
    "print(t2b_3)\n",
    "print(av2b_3)"
   ]
  },
  {
   "cell_type": "code",
   "execution_count": 53,
   "metadata": {},
   "outputs": [
    {
     "name": "stdout",
     "output_type": "stream",
     "text": [
      "[1.69152095 1.59848878 1.58582753 1.58582753]\n",
      "1.6154161961371574\n"
     ]
    }
   ],
   "source": [
    "t2b_4 = np.empty(len(I2b_4))\n",
    "for i in range(len(I2b_4)):\n",
    "    t2b_4[i] = (np.array(em(400,I2b_4[i],r2[3])))/(10**11)\n",
    "    av2b_4 = np.mean(t2b_4)\n",
    "    \n",
    "print(t2b_4)\n",
    "print(av2b_4)"
   ]
  },
  {
   "cell_type": "code",
   "execution_count": 54,
   "metadata": {},
   "outputs": [
    {
     "name": "stdout",
     "output_type": "stream",
     "text": [
      "[1.51041574 1.57509438 1.60213413 1.57509438]\n",
      "1.5656846563668996\n"
     ]
    }
   ],
   "source": [
    "t2b_5 = np.empty(len(I2b_5))\n",
    "for i in range(len(I2b_5)):\n",
    "    t2b_5[i] = (np.array(em(400,I2b_5[i],r2[4])))/(10**11)\n",
    "    av2b_5 = np.mean(t2b_5)\n",
    "    \n",
    "print(t2b_5)\n",
    "print(av2b_5)"
   ]
  },
  {
   "cell_type": "code",
   "execution_count": 55,
   "metadata": {},
   "outputs": [
    {
     "name": "stdout",
     "output_type": "stream",
     "text": [
      "[1.52302876 1.45752988 1.60762559 1.53665758]\n",
      "1.531210453897918\n"
     ]
    }
   ],
   "source": [
    "t2b_6 = np.empty(len(I2b_6))\n",
    "for i in range(len(I2b_6)):\n",
    "    t2b_6[i] = (np.array(em(400,I2b_6[i],r2[5])))/(10**11)\n",
    "    av2b_6 = np.mean(t2b_6)\n",
    "    \n",
    "print(t2b_6)\n",
    "print(av2b_6)"
   ]
  },
  {
   "cell_type": "code",
   "execution_count": 56,
   "metadata": {},
   "outputs": [
    {
     "name": "stdout",
     "output_type": "stream",
     "text": [
      "[1.43715058 1.49137794 1.45042673 1.4638877 ]\n",
      "1.4607107383670388\n"
     ]
    }
   ],
   "source": [
    "t2b_7 = np.empty(len(I2b_7))\n",
    "for i in range(len(I2b_7)):\n",
    "    t2b_7[i] = (np.array(em(400,I2b_7[i],r2[6])))/(10**11)\n",
    "    av2b_7 = np.mean(t2b_7)\n",
    "    \n",
    "print(t2b_7)\n",
    "print(av2b_7)"
   ]
  },
  {
   "cell_type": "code",
   "execution_count": 57,
   "metadata": {},
   "outputs": [
    {
     "name": "stdout",
     "output_type": "stream",
     "text": [
      "[1.38143198 1.4496407  1.4496407  1.42176364]\n",
      "1.4256192548685434\n"
     ]
    }
   ],
   "source": [
    "t2b_8 = np.empty(len(I2b_8))\n",
    "for i in range(len(I2b_8)):\n",
    "    t2b_8[i] = (np.array(em(400,I2b_8[i],r2[7])))/(10**11)\n",
    "    av2b_8 = np.mean(t2b_8)\n",
    "    \n",
    "print(t2b_8)\n",
    "print(av2b_8)"
   ]
  },
  {
   "cell_type": "code",
   "execution_count": 58,
   "metadata": {},
   "outputs": [
    {
     "name": "stdout",
     "output_type": "stream",
     "text": [
      "[1.38070135 1.42329119 1.45278867 1.40887821]\n",
      "1.4164148544540212\n"
     ]
    }
   ],
   "source": [
    "t2b_9 = np.empty(len(I2b_9))\n",
    "for i in range(len(I2b_9)):\n",
    "    t2b_9[i] = (np.array(em(400,I2b_9[i],r2[8])))/(10**11)\n",
    "    av2b_9 = np.mean(t2b_9)\n",
    "    \n",
    "print(t2b_9)\n",
    "print(av2b_9)"
   ]
  },
  {
   "cell_type": "code",
   "execution_count": 59,
   "metadata": {},
   "outputs": [
    {
     "name": "stdout",
     "output_type": "stream",
     "text": [
      "[1.22140867 1.5062462  1.48973952 1.4735027 ]\n",
      "1.4227242714280635\n"
     ]
    }
   ],
   "source": [
    "t2b_10 = np.empty(len(I2b_10))\n",
    "for i in range(len(I2b_10)):\n",
    "    t2b_10[i] = (np.array(em(400,I2b_10[i],r2[9])))/(10**11)\n",
    "    av2b_10 = np.mean(t2b_10)\n",
    "    \n",
    "print(t2b_10)\n",
    "print(av2b_10)"
   ]
  },
  {
   "cell_type": "code",
   "execution_count": 60,
   "metadata": {},
   "outputs": [
    {
     "name": "stdout",
     "output_type": "stream",
     "text": [
      "[1.60487634 1.47834576 1.53067255 1.53067255]\n",
      "1.5361418009785015\n"
     ]
    }
   ],
   "source": [
    "t2b_11 = np.empty(len(I2b_11))\n",
    "for i in range(len(I2b_11)):\n",
    "    t2b_11[i] = (np.array(em(400,I2b_11[i],r2[10])))/(10**11)\n",
    "    av2b_11 = np.mean(t2b_11)\n",
    "    \n",
    "print(t2b_11)\n",
    "print(av2b_11)"
   ]
  },
  {
   "cell_type": "code",
   "execution_count": 61,
   "metadata": {},
   "outputs": [
    {
     "name": "stdout",
     "output_type": "stream",
     "text": [
      "[1.55395241 1.49795875 1.46229435 1.44493789]\n",
      "1.4897858517118823\n"
     ]
    }
   ],
   "source": [
    "t2b_12 = np.empty(len(I2b_12))\n",
    "for i in range(len(I2b_12)):\n",
    "    t2b_12[i] = (np.array(em(400,I2b_12[i],r2[11])))/(10**11)\n",
    "    av2b_12 = np.mean(t2b_12)\n",
    "    \n",
    "print(t2b_12)\n",
    "print(av2b_12)"
   ]
  },
  {
   "cell_type": "markdown",
   "metadata": {},
   "source": [
    "Okay. Now let's do some error"
   ]
  },
  {
   "cell_type": "markdown",
   "metadata": {},
   "source": [
    "### Standrad Deviation"
   ]
  },
  {
   "cell_type": "code",
   "execution_count": 62,
   "metadata": {},
   "outputs": [],
   "source": [
    "#250 V\n",
    "std2a_1 = np.std(I2a_1)\n",
    "std2a_3 = np.std(I2a_3)\n",
    "std2a_5 = np.std(I2a_5)\n",
    "std2a_9 = np.std(I2a_9)\n",
    "std2a_11 = np.std(I2a_11)\n",
    "\n",
    "#400 V\n",
    "std2b_1 = np.std(I2b_1)\n",
    "std2b_2 = np.std(I2b_2)\n",
    "std2b_3 = np.std(I2b_3)\n",
    "std2b_4 = np.std(I2b_4)\n",
    "std2b_5 = np.std(I2b_5)\n",
    "std2b_6 = np.std(I2b_6)\n",
    "std2b_7 = np.std(I2b_7)\n",
    "std2b_8 = np.std(I2b_8)\n",
    "std2b_9 = np.std(I2b_9)\n",
    "std2b_10 = np.std(I2b_10)\n",
    "std2b_11 = np.std(I2b_11)\n",
    "std2b_12 = np.std(I2b_12)"
   ]
  },
  {
   "cell_type": "code",
   "execution_count": 63,
   "metadata": {
    "scrolled": true
   },
   "outputs": [
    {
     "name": "stdout",
     "output_type": "stream",
     "text": [
      "0.0223257138743647 0.023318447632722023 0.030720514318611263 0.017275343701356582 0.04736823830374105\n"
     ]
    }
   ],
   "source": [
    "print(std2a_1, std2a_3, std2a_5, std2a_9, std2a_11)\n",
    "\n",
    "std2a = (std2a_1, std2a_3, std2a_5, std2a_9, std2a_11)\n",
    "r2a = (0.0275, 0.0325, 0.0375, 0.0475, 0.0525)"
   ]
  },
  {
   "cell_type": "code",
   "execution_count": 64,
   "metadata": {},
   "outputs": [
    {
     "name": "stdout",
     "output_type": "stream",
     "text": [
      "0.0 0.016583123951777013 0.041231056256176644 0.03344772040064914 0.025860201081971616 0.03905124837953322 0.014790199457749025 0.02046338192968123 0.018027756377319962 0.0825757228245686 0.024874685927665518 0.022912878474779134\n"
     ]
    }
   ],
   "source": [
    "print(std2b_1, std2b_2, std2b_3, std2b_4, std2b_5, std2b_6, std2b_7, std2b_8, std2b_9, std2b_10, std2b_11, std2b_12)\n",
    "\n",
    "std2b = (std2b_1, std2b_2, std2b_3, std2b_4, std2b_5, std2b_6, std2b_7, std2b_8, std2b_9, std2b_10, std2b_11, std2b_12)"
   ]
  },
  {
   "cell_type": "markdown",
   "metadata": {},
   "source": [
    "### Propogation of Error"
   ]
  },
  {
   "cell_type": "code",
   "execution_count": 65,
   "metadata": {},
   "outputs": [],
   "source": [
    "def getprop(V,r,I,std):\n",
    "    part1a = -((2*(a**2)*cons*(V**2))/((N**2)*(r**2)*(I**3)))\n",
    "    part1b = (part1a**2)*(std**2)\n",
    "    \n",
    "    part2a = (2*(a**2)*cons*V)/((N**2)*(r**2)*(I**2))\n",
    "    part2b = (part2a**2)*(stdV**2)\n",
    "    \n",
    "    part3a = -((2*(a**2)*cons*(V**2))/((N**2)*(r**3)*(I**2)))\n",
    "    part3b = (part3a**2)*(stdr**2)\n",
    "    \n",
    "    partc = part1b + part2b + part3b\n",
    "    \n",
    "    partd = np.sqrt(partc)\n",
    "    \n",
    "    return partd"
   ]
  },
  {
   "cell_type": "markdown",
   "metadata": {},
   "source": [
    "#### 250 Volts"
   ]
  },
  {
   "cell_type": "code",
   "execution_count": 66,
   "metadata": {},
   "outputs": [
    {
     "name": "stdout",
     "output_type": "stream",
     "text": [
      "[0.15331725 0.14955712 0.15204806 0.15722306 0.14833486 0.15079477\n",
      " 0.15331725 0.15590447]\n",
      "0.15256210675542176\n"
     ]
    }
   ],
   "source": [
    "prop2a_1 = np.empty(len(I2a_1))\n",
    "for i in range(len(I2a_1)):\n",
    "    prop2a_1[i] = (np.array(getprop(250,r2a[0],I2a_1[i],std2a[0]))/(10E12))\n",
    "                    \n",
    "print(prop2a_1)\n",
    "print(np.mean(prop2a_1))"
   ]
  },
  {
   "cell_type": "code",
   "execution_count": 67,
   "metadata": {},
   "outputs": [
    {
     "name": "stdout",
     "output_type": "stream",
     "text": [
      "[0.1313889  0.1313889  0.12505764 0.13405816 0.13271336 0.13405816\n",
      " 0.13008436 0.13542371]\n",
      "0.1317716482134126\n"
     ]
    }
   ],
   "source": [
    "prop2a_2 = np.empty(len(I2a_3))\n",
    "for i in range(len(I2a_3)):\n",
    "    prop2a_2[i] = (np.array(getprop(250,r2a[1],I2a_3[i],std2a[1]))/(10E12))\n",
    "                    \n",
    "print(prop2a_2)\n",
    "print(np.mean(prop2a_2))"
   ]
  },
  {
   "cell_type": "code",
   "execution_count": 68,
   "metadata": {},
   "outputs": [
    {
     "name": "stdout",
     "output_type": "stream",
     "text": [
      "[0.14027888 0.13851801 0.1350924  0.14959603 0.14959603 0.15156805\n",
      " 0.14390067 0.14027888]\n",
      "0.1436036169226656\n"
     ]
    }
   ],
   "source": [
    "prop2a_3 = np.empty(len(I2a_5))\n",
    "for i in range(len(I2a_5)):\n",
    "    prop2a_3[i] = (np.array(getprop(250,r2a[2],I2a_5[i],std2a[2]))/(10E12))\n",
    "                    \n",
    "print(prop2a_3)\n",
    "print(np.mean(prop2a_3))"
   ]
  },
  {
   "cell_type": "code",
   "execution_count": 69,
   "metadata": {},
   "outputs": [
    {
     "name": "stdout",
     "output_type": "stream",
     "text": [
      "[0.11639629 0.11832248 0.12439237 0.11832248 0.12439237 0.12231895\n",
      " 0.11832248 0.12651811]\n",
      "0.12112318879496575\n"
     ]
    }
   ],
   "source": [
    "prop2a_4 = np.empty(len(I2a_9))\n",
    "for i in range(len(I2a_9)):\n",
    "    prop2a_4[i] = (np.array(getprop(250,r2a[3],I2a_9[i],std2a[3]))/(10E12))\n",
    "                    \n",
    "print(prop2a_4)\n",
    "print(np.mean(prop2a_4))"
   ]
  },
  {
   "cell_type": "code",
   "execution_count": 70,
   "metadata": {},
   "outputs": [
    {
     "name": "stdout",
     "output_type": "stream",
     "text": [
      "[0.28071094 0.28071094 0.26891516 0.29976182 0.26326934 0.27472697\n",
      " 0.28071094 0.37755721]\n",
      "0.2907954122963543\n"
     ]
    }
   ],
   "source": [
    "prop2a_5 = np.empty(len(I2a_11))\n",
    "for i in range(len(I2a_11)):\n",
    "    prop2a_5[i] = (np.array(getprop(250,r2a[4],I2a_11[i],std2a[4]))/(10E12))\n",
    "                    \n",
    "print(prop2a_5)\n",
    "print(np.mean(prop2a_5))"
   ]
  },
  {
   "cell_type": "markdown",
   "metadata": {},
   "source": [
    "### 400 Volts"
   ]
  },
  {
   "cell_type": "code",
   "execution_count": 71,
   "metadata": {},
   "outputs": [
    {
     "name": "stdout",
     "output_type": "stream",
     "text": [
      "0.26790435230669596\n",
      "0.26790435230669596\n"
     ]
    }
   ],
   "source": [
    "#Only one value so no need for the for loop\n",
    "prop2b_1 = (np.array(getprop(400,r2[0],I2b_1,std2b[0]))/(10E12))\n",
    "                    \n",
    "print(prop2b_1)\n",
    "print(np.mean(prop2b_1))"
   ]
  },
  {
   "cell_type": "code",
   "execution_count": 72,
   "metadata": {},
   "outputs": [
    {
     "name": "stdout",
     "output_type": "stream",
     "text": [
      "[0.22872368 0.23545632 0.22872368 0.23205296]\n",
      "0.2312391621102013\n"
     ]
    }
   ],
   "source": [
    "prop2b_2 = np.empty(len(I2b_2))\n",
    "for i in range(len(I2b_2)):\n",
    "    prop2b_2[i] = (np.array(getprop(400,r2[1],I2b_2[i],std2b[1]))/(10E12))\n",
    "                    \n",
    "print(prop2b_2)\n",
    "print(np.mean(prop2b_2))"
   ]
  },
  {
   "cell_type": "code",
   "execution_count": 73,
   "metadata": {},
   "outputs": [
    {
     "name": "stdout",
     "output_type": "stream",
     "text": [
      "[0.26720742 0.26245059 0.28227117 0.28757291]\n",
      "0.2748755201960697\n"
     ]
    }
   ],
   "source": [
    "prop2b_3 = np.empty(len(I2b_3))\n",
    "for i in range(len(I2b_3)):\n",
    "    prop2b_3[i] = (np.array(getprop(400,r2[2],I2b_3[i],std2b[2]))/(10E12))\n",
    "                    \n",
    "print(prop2b_3)\n",
    "print(np.mean(prop2b_3))"
   ]
  },
  {
   "cell_type": "code",
   "execution_count": 74,
   "metadata": {},
   "outputs": [
    {
     "name": "stdout",
     "output_type": "stream",
     "text": [
      "[0.27004835 0.25186281 0.24941445 0.24941445]\n",
      "0.2551850141403588\n"
     ]
    }
   ],
   "source": [
    "prop2b_4 = np.empty(len(I2b_4))\n",
    "for i in range(len(I2b_4)):\n",
    "    prop2b_4[i] = (np.array(getprop(400,r2[3],I2b_4[i],std2b[3]))/(10E12))\n",
    "                    \n",
    "print(prop2b_4)\n",
    "print(np.mean(prop2b_4))"
   ]
  },
  {
   "cell_type": "code",
   "execution_count": 75,
   "metadata": {},
   "outputs": [
    {
     "name": "stdout",
     "output_type": "stream",
     "text": [
      "[0.20899917 0.21973753 0.22426601 0.21973753]\n",
      "0.21818505837288374\n"
     ]
    }
   ],
   "source": [
    "prop2b_5 = np.empty(len(I2b_5))\n",
    "for i in range(len(I2b_5)):\n",
    "    prop2b_5[i] = (np.array(getprop(400,r2[4],I2b_5[i],std2b[4]))/(10E12))\n",
    "                    \n",
    "print(prop2b_5)\n",
    "print(np.mean(prop2b_5))"
   ]
  },
  {
   "cell_type": "code",
   "execution_count": 76,
   "metadata": {},
   "outputs": [
    {
     "name": "stdout",
     "output_type": "stream",
     "text": [
      "[0.26238127 0.24756524 0.28190744 0.26549748]\n",
      "0.26433785678539967\n"
     ]
    }
   ],
   "source": [
    "prop2b_6 = np.empty(len(I2b_6))\n",
    "for i in range(len(I2b_6)):\n",
    "    prop2b_6[i] = (np.array(getprop(400,r2[5],I2b_6[i],std2b[5]))/(10E12))\n",
    "                    \n",
    "print(prop2b_6)\n",
    "print(np.mean(prop2b_6))"
   ]
  },
  {
   "cell_type": "code",
   "execution_count": 77,
   "metadata": {},
   "outputs": [
    {
     "name": "stdout",
     "output_type": "stream",
     "text": [
      "[0.15876457 0.16550376 0.16040975 0.16208098]\n",
      "0.16168976469472046\n"
     ]
    }
   ],
   "source": [
    "prop2b_7 = np.empty(len(I2b_7))\n",
    "for i in range(len(I2b_7)):\n",
    "    prop2b_7[i] = (np.array(getprop(400,r2[6],I2b_7[i],std2b[6]))/(10E12))\n",
    "                    \n",
    "print(prop2b_7)\n",
    "print(np.mean(prop2b_7))"
   ]
  },
  {
   "cell_type": "code",
   "execution_count": 78,
   "metadata": {},
   "outputs": [
    {
     "name": "stdout",
     "output_type": "stream",
     "text": [
      "[0.16564707 0.17563036 0.17563036 0.17153186]\n",
      "0.17210991381347518\n"
     ]
    }
   ],
   "source": [
    "prop2b_8 = np.empty(len(I2b_8))\n",
    "for i in range(len(I2b_8)):\n",
    "    prop2b_8[i] = (np.array(getprop(400,r2[7],I2b_8[i],std2b[7]))/(10E12))\n",
    "                    \n",
    "print(prop2b_8)\n",
    "print(np.mean(prop2b_8))"
   ]
  },
  {
   "cell_type": "code",
   "execution_count": 79,
   "metadata": {},
   "outputs": [
    {
     "name": "stdout",
     "output_type": "stream",
     "text": [
      "[0.15586526 0.16169129 0.16575826 0.15971357]\n",
      "0.1607570933766013\n"
     ]
    }
   ],
   "source": [
    "prop2b_9 = np.empty(len(I2b_9))\n",
    "for i in range(len(I2b_9)):\n",
    "    prop2b_9[i] = (np.array(getprop(400,r2[8],I2b_9[i],std2b[8]))/(10E12))\n",
    "                    \n",
    "print(prop2b_9)\n",
    "print(np.mean(prop2b_9))"
   ]
  },
  {
   "cell_type": "code",
   "execution_count": 80,
   "metadata": {},
   "outputs": [
    {
     "name": "stdout",
     "output_type": "stream",
     "text": [
      "[0.41387037 0.56360015 0.55451013 0.54561687]\n",
      "0.5193993810956878\n"
     ]
    }
   ],
   "source": [
    "prop2b_10 = np.empty(len(I2b_10))\n",
    "for i in range(len(I2b_10)):\n",
    "    prop2b_10[i] = (np.array(getprop(400,r2[9],I2b_10[i],std2b[9]))/(10E12))\n",
    "                    \n",
    "print(prop2b_10)\n",
    "print(np.mean(prop2b_10))"
   ]
  },
  {
   "cell_type": "code",
   "execution_count": 81,
   "metadata": {},
   "outputs": [
    {
     "name": "stdout",
     "output_type": "stream",
     "text": [
      "[0.22924542 0.2052967  0.21509962 0.21509962]\n",
      "0.2161853403334436\n"
     ]
    }
   ],
   "source": [
    "prop2b_11 = np.empty(len(I2b_11))\n",
    "for i in range(len(I2b_11)):\n",
    "    prop2b_11[i] = (np.array(getprop(400,r2[10],I2b_11[i],std2b[10]))/(10E12))\n",
    "                    \n",
    "print(prop2b_11)\n",
    "print(np.mean(prop2b_11))"
   ]
  },
  {
   "cell_type": "code",
   "execution_count": 82,
   "metadata": {},
   "outputs": [
    {
     "name": "stdout",
     "output_type": "stream",
     "text": [
      "[0.22924542 0.2052967  0.21509962 0.21509962]\n",
      "0.2161853403334436\n"
     ]
    }
   ],
   "source": [
    "prop2b_12 = np.empty(len(I2b_12))\n",
    "for i in range(len(I2b_12)):\n",
    "    prop2b_11[i] = (np.array(getprop(400,r2[11],I2b_12[i],std2b[11]))/(10E12))\n",
    "                    \n",
    "print(prop2b_12)\n",
    "print(np.mean(prop2b_12))"
   ]
  },
  {
   "cell_type": "code",
   "execution_count": null,
   "metadata": {},
   "outputs": [],
   "source": []
  }
 ],
 "metadata": {
  "kernelspec": {
   "display_name": "Python 3",
   "language": "python",
   "name": "python3"
  },
  "language_info": {
   "codemirror_mode": {
    "name": "ipython",
    "version": 3
   },
   "file_extension": ".py",
   "mimetype": "text/x-python",
   "name": "python",
   "nbconvert_exporter": "python",
   "pygments_lexer": "ipython3",
   "version": "3.7.4"
  }
 },
 "nbformat": 4,
 "nbformat_minor": 2
}
