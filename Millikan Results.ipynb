{
 "cells": [
  {
   "cell_type": "markdown",
   "metadata": {},
   "source": [
    "## Millikan Oil Drop Results\n",
    "\n",
    "### Alexandra Higley"
   ]
  },
  {
   "cell_type": "code",
   "execution_count": 1,
   "metadata": {},
   "outputs": [],
   "source": [
    "import numpy as np\n",
    "from scipy.optimize import curve_fit\n",
    "from pylab import *\n",
    "from math import e\n",
    "import matplotlib\n",
    "import matplotlib.pyplot as plt\n",
    "import matplotlib.ticker as ticker\n",
    "import scipy\n",
    "from scipy import stats\n",
    "from scipy.stats import norm"
   ]
  },
  {
   "cell_type": "code",
   "execution_count": 2,
   "metadata": {},
   "outputs": [],
   "source": [
    "#Drop 1\n",
    "trdat1 = (9.207, 8.679, 8.362, 9.012, 9.655, 9.685, 9.529, 9.541)\n",
    "tfdat1 = (9.318, 9.2, 9.756, 9.704, 10.03, 10.627, 9.479, 10.055)\n",
    "tr1 = np.array(trdat1)\n",
    "tf1 = np.array(tfdat1)\n",
    "\n",
    "#Drop 2 \n",
    "trdat2 = (4.855, 4.998, 4.841, 4.911, 4.751, 4.672, 5.046, 4.897, 5.841, 4.865)\n",
    "tfdat2 = (8.061, 9.396, 8.165, 8.845, 9.03, 9.218, 8.952, 8.816, 9.715, 11.067)\n",
    "tr2 = np.array(trdat2)\n",
    "tf2 = np.array(tfdat2)\n",
    "\n",
    "#Drop 3 \n",
    "trdat3 = (3.16, 3.338, 3.279, 3.428, 3.123, 3.431, 3.363)\n",
    "tfdat3 = (10.014, 9.469, 8.208, 8.191, 8.958, 9.164, 9.874)\n",
    "tr3 = np.array(trdat3)\n",
    "tf3 = np.array(tfdat3)\n",
    "\n",
    "#Drop 4 \n",
    "trdat4 = (5.702, 6.044, 5.878, 5.774, 5.811, 6.142, 6.169, 6.056, 5.72, 6.05)\n",
    "tfdat4 = (11.956, 12.144, 11.799, 12.907, 12.513, 12.093, 13.481, 12.643, 11.514, 10.726)\n",
    "tr4 = np.array(trdat4)\n",
    "tf4 = np.array(tfdat4)\n"
   ]
  },
  {
   "cell_type": "code",
   "execution_count": 3,
   "metadata": {},
   "outputs": [],
   "source": [
    "#Chauvenistic criterion \n",
    "\n",
    "def chauv(array):\n",
    "    print(len(array))\n",
    "    mu, sigma = scipy.stats.norm.fit(array)\n",
    "    print(array)\n",
    "    som = abs(mu+(2*sigma))\n",
    "    optloc = np.where(som >= array)\n",
    "    opt = array[optloc]\n",
    "    print(opt)\n",
    "    print(len(opt))\n",
    "    \n",
    "#it is found that the rise time on Drop Two in trial 9 and the fall time on Drop two in trial 10 are not acceptable.\n",
    "#Redefining Drop 2 data before proceeding. \n",
    "\n",
    "#Drop 2 \n",
    "trdat2 = (4.855, 4.998, 4.841, 4.911, 4.751, 4.672, 5.046, 4.897)\n",
    "tfdat2 = (8.061, 9.396, 8.165, 8.845, 9.03, 9.218, 8.952, 8.816)\n",
    "tr2 = np.array(trdat2)\n",
    "tf2 = np.array(tfdat2)"
   ]
  },
  {
   "cell_type": "code",
   "execution_count": 4,
   "metadata": {},
   "outputs": [],
   "source": [
    "#Finding rise and fall velocities. \n",
    "\n",
    "vr1 = (0.0005)/tr1 #velocities with E field\n",
    "vf1 = (0.0005)/tf1 #velocities without E field\n",
    "\n",
    "vr2 = (0.0005)/tr2\n",
    "vf2 = (0.0005)/tf2\n",
    "\n",
    "vr3 = (0.0005)/tr3\n",
    "vf3 = (0.0005)/tf3\n",
    "\n",
    "vr4 = (0.0005)/tr4\n",
    "vf4 = (0.0005)/tf4"
   ]
  },
  {
   "cell_type": "code",
   "execution_count": 5,
   "metadata": {},
   "outputs": [],
   "source": [
    "# defining some constants\n",
    "\n",
    "b = 8.20*(10**-3) #Pa*m\n",
    "p = 101693.252 #Pa \n",
    "#30.03\"Hg\n",
    "g = 9.80665 #m/s^2; acceleration of grav\n",
    "rho = 886 #kg/m^3; density of oil "
   ]
  },
  {
   "cell_type": "code",
   "execution_count": 6,
   "metadata": {},
   "outputs": [
    {
     "name": "stdout",
     "output_type": "stream",
     "text": [
      "(5.443529923502419e-05, 0.00010269707456930107, 0.00015155294980180633, 8.431940240734615e-05)\n",
      "(5.1269770824714266e-05, 5.689855847678267e-05, 5.510116684242471e-05, 4.1209032808660226e-05)\n"
     ]
    }
   ],
   "source": [
    "#Averaging the velocities\n",
    "vf1av = np.mean(vf1)\n",
    "vf2av = np.mean(vf2)\n",
    "vf3av = np.mean(vf3)\n",
    "vf4av = np.mean(vf4)\n",
    "\n",
    "vr1av = np.mean(vr1)\n",
    "vr2av = np.mean(vr2)\n",
    "vr3av = np.mean(vr3)\n",
    "vr4av = np.mean(vr4)\n",
    "\n",
    "vfav_all = (vf1av, vf2av, vf3av, vf4av)\n",
    "vrav_all = (vr1av, vr2av, vr3av, vr4av)\n",
    "\n",
    "print(vrav_all)\n",
    "print(vfav_all)"
   ]
  },
  {
   "cell_type": "markdown",
   "metadata": {},
   "source": [
    "Now we need to compute temperature for each drop using the resistace through the thermisor, then use that to find nu"
   ]
  },
  {
   "cell_type": "code",
   "execution_count": 7,
   "metadata": {},
   "outputs": [],
   "source": [
    "#Finding nu\n",
    "\n",
    "res1 = 2.13 #Ohms\n",
    "res2 = 2.09\n",
    "res3 = 2.07\n",
    "res4 = 2.13\n",
    "\n",
    "temp1 = 23 #C\n",
    "temp2 = 24\n",
    "temp3 = 24\n",
    "temp4 = 23\n",
    "\n",
    "nu1 = 1.8380*(10**-5) #Nsm^-2*10^-5\n",
    "nu2 = 1.8430*(10**-5)\n",
    "nu3 = 1.8430*(10**-5)\n",
    "nu4 = 1.8380*(10**-5)"
   ]
  },
  {
   "cell_type": "markdown",
   "metadata": {},
   "source": [
    "We can finally find radius (a). We can simplify the equation to get the radius (a) of the oil drop like this:\n",
    "\n",
    "a = sqrt(A +B) - C"
   ]
  },
  {
   "cell_type": "code",
   "execution_count": 8,
   "metadata": {},
   "outputs": [
    {
     "name": "stdout",
     "output_type": "stream",
     "text": [
      "(6.594513883305273e-07, 6.97742041449043e-07, 6.860264147387208e-07, 5.873014888780604e-07)\n"
     ]
    }
   ],
   "source": [
    "#Finding radius of oil drops\n",
    "\n",
    "A1av = (b/(2*p))**2\n",
    "B1av = ((9*nu1*vf1av)/(2*g*rho))\n",
    "C1av = b/(2*p)\n",
    "a_av1 = np.sqrt(A1av+B1av)-C1av\n",
    "\n",
    "A2av = (b/(2*p))**2\n",
    "B2av = ((9*nu2*vf2av)/(2*g*rho))\n",
    "C2av = b/(2*p)\n",
    "a_av2 = np.sqrt(A2av+B2av)-C2av\n",
    "\n",
    "A3av = (b/(2*p))**2\n",
    "B3av = ((9*nu3*vf3av)/(2*g*rho))\n",
    "C3av = b/(2*p)\n",
    "a_av3 = np.sqrt(A3av+B3av)-C3av\n",
    "\n",
    "A4av = (b/(2*p))**2\n",
    "B4av = ((9*nu4*vf4av)/(2*g*rho))\n",
    "C4av = b/(2*p)\n",
    "a_av4 = np.sqrt(A4av+B4av)-C4av\n",
    "\n",
    "a_avall = (a_av1, a_av2, a_av3, a_av4)\n",
    "print(a_avall)"
   ]
  },
  {
   "cell_type": "code",
   "execution_count": 9,
   "metadata": {},
   "outputs": [
    {
     "name": "stdout",
     "output_type": "stream",
     "text": [
      "(1.0643162472791083e-15, 1.2606862202645247e-15, 1.198242847935394e-15, 7.518057390948538e-16)\n"
     ]
    }
   ],
   "source": [
    "#Finding mass of oil drops\n",
    "\n",
    "mass_av1 = (4/3)*np.pi*(a_av1**3)*rho\n",
    "mass_av2 = (4/3)*np.pi*(a_av2**3)*rho\n",
    "mass_av3 = (4/3)*np.pi*(a_av3**3)*rho\n",
    "mass_av4 = (4/3)*np.pi*(a_av4**3)*rho\n",
    "\n",
    "mass_avall = (mass_av1, mass_av2, mass_av3, mass_av4)\n",
    "print(mass_avall)"
   ]
  },
  {
   "cell_type": "code",
   "execution_count": 10,
   "metadata": {},
   "outputs": [],
   "source": [
    "#Finding Electric field within apparatus for each drop\n",
    "\n",
    "d = 0.0076 #m\n",
    "V1 = 500 #V\n",
    "V2 = 511\n",
    "V3 = 500\n",
    "V4 = 500\n",
    "\n",
    "E1 = V1/(d)\n",
    "E2 = V2/(d)\n",
    "E3 = V3/(d)\n",
    "E4 = V4/(d)"
   ]
  },
  {
   "cell_type": "code",
   "execution_count": 11,
   "metadata": {},
   "outputs": [
    {
     "name": "stdout",
     "output_type": "stream",
     "text": [
      "(3.2709160487231297e-19, 5.2709756439824885e-19, 6.698728471339291e-19, 3.413654737365247e-19)\n"
     ]
    }
   ],
   "source": [
    "charge_av1 = (mass_av1*g*(vf1av + vr1av)/(E1*vf1av))\n",
    "charge_av2 = (mass_av2*g*(vf2av + vr2av)/(E1*vf2av))\n",
    "charge_av3 = (mass_av3*g*(vf3av + vr3av)/(E1*vf3av))\n",
    "charge_av4 = (mass_av4*g*(vf4av + vr4av)/(E1*vf4av))\n",
    "\n",
    "charge_av = (charge_av1, charge_av2, charge_av3, charge_av4)\n",
    "\n",
    "print(charge_av)"
   ]
  },
  {
   "cell_type": "code",
   "execution_count": null,
   "metadata": {},
   "outputs": [],
   "source": []
  },
  {
   "cell_type": "code",
   "execution_count": null,
   "metadata": {},
   "outputs": [],
   "source": []
  }
 ],
 "metadata": {
  "kernelspec": {
   "display_name": "Python 3",
   "language": "python",
   "name": "python3"
  },
  "language_info": {
   "codemirror_mode": {
    "name": "ipython",
    "version": 3
   },
   "file_extension": ".py",
   "mimetype": "text/x-python",
   "name": "python",
   "nbconvert_exporter": "python",
   "pygments_lexer": "ipython3",
   "version": "3.7.4"
  }
 },
 "nbformat": 4,
 "nbformat_minor": 2
}
